{
 "cells": [
  {
   "cell_type": "markdown",
   "id": "daff0c30",
   "metadata": {},
   "source": [
    "# 필요한 패키지 다운로드"
   ]
  },
  {
   "cell_type": "code",
   "execution_count": null,
   "id": "a90bca26",
   "metadata": {},
   "outputs": [],
   "source": [
    "!pip install pdblp"
   ]
  },
  {
   "cell_type": "code",
   "execution_count": 1,
   "id": "92308676",
   "metadata": {},
   "outputs": [],
   "source": [
    "# 블룸버그 터미널 관련\n",
    "import pdblp\n",
    "\n",
    "# 병렬 연산 관련\n",
    "from joblib import Parallel, delayed\n",
    "\n",
    "# 데이터셋 전처리\n",
    "import web_Dataset_Preprocessing as D_P"
   ]
  },
  {
   "cell_type": "markdown",
   "id": "167ff5af",
   "metadata": {},
   "source": [
    "# 블룸버그 터미널 연결"
   ]
  },
  {
   "cell_type": "code",
   "execution_count": 3,
   "id": "4e352530",
   "metadata": {
    "collapsed": true
   },
   "outputs": [
    {
     "name": "stderr",
     "output_type": "stream",
     "text": [
      "pdblp.pdblp:WARNING:Message Received:\n",
      "SessionStartupFailure = {\n",
      "    reason = {\n",
      "        source = \"ApiConnector\"\n",
      "        category = \"IO_ERROR\"\n",
      "        errorCode = 8\n",
      "        description = \"connect event failed\"\n",
      "    }\n",
      "}\n",
      "\n"
     ]
    },
    {
     "ename": "ConnectionError",
     "evalue": "Could not start blpapi.Session",
     "output_type": "error",
     "traceback": [
      "\u001b[1;31m---------------------------------------------------------------------------\u001b[0m",
      "\u001b[1;31mConnectionError\u001b[0m                           Traceback (most recent call last)",
      "Cell \u001b[1;32mIn[3], line 7\u001b[0m\n\u001b[0;32m      1\u001b[0m con \u001b[38;5;241m=\u001b[39m pdblp\u001b[38;5;241m.\u001b[39mBCon(debug \u001b[38;5;241m=\u001b[39m \u001b[38;5;28;01mFalse\u001b[39;00m, port\u001b[38;5;241m=\u001b[39m\u001b[38;5;241m8194\u001b[39m, timeout\u001b[38;5;241m=\u001b[39m\u001b[38;5;241m5000\u001b[39m)\n\u001b[0;32m      2\u001b[0m     \u001b[38;5;66;03m# Bloomberg 서비스에 연결하기 위한 BCon 객체 생성\u001b[39;00m\n\u001b[0;32m      3\u001b[0m     \u001b[38;5;66;03m# debug=False는 디버그 모드를 비활성화하는 옵션, 디버그 모드를 활성화하면 더 자세한 정보를 얻을 수 있지만, 일반적으로는 비활성화하는 것이 좋음\u001b[39;00m\n\u001b[0;32m      4\u001b[0m     \u001b[38;5;66;03m# port=8194는 Bloomberg 서비스에 연결하기 위한 포트 번호, 기본 포트 번호는 8194\u001b[39;00m\n\u001b[0;32m      5\u001b[0m     \u001b[38;5;66;03m# timeout=5000은 연결 시도를 중지하고 예외를 발생시킬 최대 대기 시간(밀리초), 5000밀리초(5초)로 설정되어 있으므로, 연결 시도가 5초 동안 성공하지 않으면 예외가 발생\u001b[39;00m\n\u001b[1;32m----> 7\u001b[0m \u001b[43mcon\u001b[49m\u001b[38;5;241;43m.\u001b[39;49m\u001b[43mstart\u001b[49m\u001b[43m(\u001b[49m\u001b[43m)\u001b[49m\n",
      "File \u001b[1;32m~\\anaconda3\\lib\\site-packages\\pdblp\\pdblp.py:147\u001b[0m, in \u001b[0;36mBCon.start\u001b[1;34m(self)\u001b[0m\n\u001b[0;32m    145\u001b[0m         \u001b[38;5;28;01mfor\u001b[39;00m msg \u001b[38;5;129;01min\u001b[39;00m ev:\n\u001b[0;32m    146\u001b[0m             logger\u001b[38;5;241m.\u001b[39mwarning(\u001b[38;5;124m'\u001b[39m\u001b[38;5;124mMessage Received:\u001b[39m\u001b[38;5;130;01m\\n\u001b[39;00m\u001b[38;5;132;01m{}\u001b[39;00m\u001b[38;5;124m'\u001b[39m\u001b[38;5;241m.\u001b[39mformat(msg))\n\u001b[1;32m--> 147\u001b[0m         \u001b[38;5;28;01mraise\u001b[39;00m \u001b[38;5;167;01mConnectionError\u001b[39;00m(\u001b[38;5;124m'\u001b[39m\u001b[38;5;124mCould not start blpapi.Session\u001b[39m\u001b[38;5;124m'\u001b[39m)\n\u001b[0;32m    148\u001b[0m \u001b[38;5;28mself\u001b[39m\u001b[38;5;241m.\u001b[39m_init_services()\n\u001b[0;32m    149\u001b[0m \u001b[38;5;28;01mreturn\u001b[39;00m \u001b[38;5;28mself\u001b[39m\n",
      "\u001b[1;31mConnectionError\u001b[0m: Could not start blpapi.Session"
     ]
    }
   ],
   "source": [
    "con = pdblp.BCon(debug = False, port=8194, timeout=5000)\n",
    "    # Bloomberg 서비스에 연결하기 위한 BCon 객체 생성\n",
    "    # debug=False는 디버그 모드를 비활성화하는 옵션, 디버그 모드를 활성화하면 더 자세한 정보를 얻을 수 있지만, 일반적으로는 비활성화하는 것이 좋음\n",
    "    # port=8194는 Bloomberg 서비스에 연결하기 위한 포트 번호, 기본 포트 번호는 8194\n",
    "    # timeout=5000은 연결 시도를 중지하고 예외를 발생시킬 최대 대기 시간(밀리초), 5000밀리초(5초)로 설정되어 있으므로, 연결 시도가 5초 동안 성공하지 않으면 예외가 발생\n",
    "\n",
    "con.start()"
   ]
  },
  {
   "cell_type": "markdown",
   "id": "f1a3c407",
   "metadata": {},
   "source": [
    "# 초기 bulk dataset 만들기 "
   ]
  },
  {
   "cell_type": "code",
   "execution_count": 1,
   "id": "86b8f795",
   "metadata": {},
   "outputs": [],
   "source": [
    "kospi_russell_members = []"
   ]
  },
  {
   "cell_type": "markdown",
   "id": "27015f4e",
   "metadata": {},
   "source": [
    "⬇️ (차후 개선) 2500개에서 짤리는 거 방지하는 코드 추가"
   ]
  },
  {
   "cell_type": "code",
   "execution_count": null,
   "id": "f7ab106f",
   "metadata": {},
   "outputs": [],
   "source": [
    "russell_members_df = con.bulkref('RAY Index', 'INDX_MEMBERS')\n",
    "russell_members = rusell_members_df[['value']]\n",
    "kospi_russell_members.append(list(russell_members))"
   ]
  },
  {
   "cell_type": "markdown",
   "id": "68202542",
   "metadata": {},
   "source": [
    "➡️ (차후 개선) russell 및 코스피 members 저장해놓는 db 만들기"
   ]
  },
  {
   "cell_type": "code",
   "execution_count": null,
   "id": "fb22fce6",
   "metadata": {},
   "outputs": [],
   "source": [
    "kospi_russell_tickers = [x + ' Equity' for x in kospi_russell_members]"
   ]
  },
  {
   "cell_type": "markdown",
   "id": "ff9373b0",
   "metadata": {},
   "source": [
    "⬇️ (차후 개선) 시작일 협의 + 최신일 수정"
   ]
  },
  {
   "cell_type": "markdown",
   "id": "a6c42c00",
   "metadata": {},
   "source": [
    "⬇️ (차후 개선) 'VOLUME' 넣을지 협의 -> 전처리 코드도 수정 필요함"
   ]
  },
  {
   "cell_type": "code",
   "execution_count": null,
   "id": "e9799edf",
   "metadata": {},
   "outputs": [],
   "source": [
    "con.bdh(ticker, ['PX_LAST', 'CHG_PCT_1D'], '20150101', '20230717')"
   ]
  },
  {
   "cell_type": "markdown",
   "id": "abd8c493",
   "metadata": {},
   "source": [
    "⬇️ (차후 개선) bloomberg랑 병렬 연산 같이 되는지 확인 필요"
   ]
  },
  {
   "cell_type": "code",
   "execution_count": null,
   "id": "00a865f8",
   "metadata": {},
   "outputs": [],
   "source": [
    "for ticker in kospi_russell_tickers:\n",
    "    \n",
    "    # 블룸버그에서 raw data 받아오기\n",
    "    if '/' in ticker:\n",
    "        ticker = ticker.replace(\"/\", \"-\")\n",
    "    ticker_bloomgberg_df = con.bdh(ticker, ['PX_LAST', 'CHG_PCT_1D'], '20150101', '20230717')\n",
    "    \n",
    "    # 데이터 전처리\n",
    "    "
   ]
  },
  {
   "cell_type": "code",
   "execution_count": null,
   "id": "14229bf3",
   "metadata": {},
   "outputs": [],
   "source": []
  },
  {
   "cell_type": "code",
   "execution_count": 9,
   "id": "2ef821fe",
   "metadata": {},
   "outputs": [],
   "source": [
    "import pandas as pd"
   ]
  },
  {
   "cell_type": "code",
   "execution_count": 10,
   "id": "ba20403e",
   "metadata": {},
   "outputs": [],
   "source": [
    "df_test = pd.read_csv('/Users/chanj/OneDrive/바탕 화면/Life/datasets-total-ver23060812/datasets-KOSPI200/dataset-KOSPI200-000100 KS.csv')"
   ]
  },
  {
   "cell_type": "code",
   "execution_count": 11,
   "id": "b8b84ecf",
   "metadata": {},
   "outputs": [
    {
     "data": {
      "text/html": [
       "<div>\n",
       "<style scoped>\n",
       "    .dataframe tbody tr th:only-of-type {\n",
       "        vertical-align: middle;\n",
       "    }\n",
       "\n",
       "    .dataframe tbody tr th {\n",
       "        vertical-align: top;\n",
       "    }\n",
       "\n",
       "    .dataframe thead th {\n",
       "        text-align: right;\n",
       "    }\n",
       "</style>\n",
       "<table border=\"1\" class=\"dataframe\">\n",
       "  <thead>\n",
       "    <tr style=\"text-align: right;\">\n",
       "      <th></th>\n",
       "      <th>date</th>\n",
       "      <th>PX_OPEN</th>\n",
       "      <th>PX_LOW</th>\n",
       "      <th>PX_HIGH</th>\n",
       "      <th>PX_LAST</th>\n",
       "      <th>VOLUME</th>\n",
       "      <th>MOV_AVG_5D</th>\n",
       "      <th>CHG_PCT_1D</th>\n",
       "    </tr>\n",
       "  </thead>\n",
       "  <tbody>\n",
       "    <tr>\n",
       "      <th>0</th>\n",
       "      <td>2015-01-02</td>\n",
       "      <td>23950.0</td>\n",
       "      <td>23950.0</td>\n",
       "      <td>24305.0</td>\n",
       "      <td>24021.0</td>\n",
       "      <td>93579.0</td>\n",
       "      <td>24276.8742</td>\n",
       "      <td>-0.2950</td>\n",
       "    </tr>\n",
       "    <tr>\n",
       "      <th>1</th>\n",
       "      <td>2015-01-05</td>\n",
       "      <td>23879.0</td>\n",
       "      <td>23808.0</td>\n",
       "      <td>24163.0</td>\n",
       "      <td>23879.0</td>\n",
       "      <td>146986.0</td>\n",
       "      <td>24191.5925</td>\n",
       "      <td>-0.5917</td>\n",
       "    </tr>\n",
       "    <tr>\n",
       "      <th>2</th>\n",
       "      <td>2015-01-06</td>\n",
       "      <td>23879.0</td>\n",
       "      <td>23737.0</td>\n",
       "      <td>24092.0</td>\n",
       "      <td>23737.0</td>\n",
       "      <td>102050.0</td>\n",
       "      <td>24035.2426</td>\n",
       "      <td>-0.5952</td>\n",
       "    </tr>\n",
       "    <tr>\n",
       "      <th>3</th>\n",
       "      <td>2015-01-07</td>\n",
       "      <td>23950.0</td>\n",
       "      <td>23524.0</td>\n",
       "      <td>23950.0</td>\n",
       "      <td>23524.0</td>\n",
       "      <td>140731.0</td>\n",
       "      <td>23850.4654</td>\n",
       "      <td>-0.8982</td>\n",
       "    </tr>\n",
       "    <tr>\n",
       "      <th>4</th>\n",
       "      <td>2015-01-08</td>\n",
       "      <td>23595.0</td>\n",
       "      <td>23097.0</td>\n",
       "      <td>23737.0</td>\n",
       "      <td>23310.0</td>\n",
       "      <td>329698.0</td>\n",
       "      <td>23694.1155</td>\n",
       "      <td>-0.9063</td>\n",
       "    </tr>\n",
       "  </tbody>\n",
       "</table>\n",
       "</div>"
      ],
      "text/plain": [
       "         date  PX_OPEN   PX_LOW  PX_HIGH  PX_LAST    VOLUME  MOV_AVG_5D  \\\n",
       "0  2015-01-02  23950.0  23950.0  24305.0  24021.0   93579.0  24276.8742   \n",
       "1  2015-01-05  23879.0  23808.0  24163.0  23879.0  146986.0  24191.5925   \n",
       "2  2015-01-06  23879.0  23737.0  24092.0  23737.0  102050.0  24035.2426   \n",
       "3  2015-01-07  23950.0  23524.0  23950.0  23524.0  140731.0  23850.4654   \n",
       "4  2015-01-08  23595.0  23097.0  23737.0  23310.0  329698.0  23694.1155   \n",
       "\n",
       "   CHG_PCT_1D  \n",
       "0     -0.2950  \n",
       "1     -0.5917  \n",
       "2     -0.5952  \n",
       "3     -0.8982  \n",
       "4     -0.9063  "
      ]
     },
     "execution_count": 11,
     "metadata": {},
     "output_type": "execute_result"
    }
   ],
   "source": [
    "df_test.head()"
   ]
  },
  {
   "cell_type": "code",
   "execution_count": 12,
   "id": "72034bf4",
   "metadata": {},
   "outputs": [],
   "source": [
    "df_test2=df_test[['date', 'PX_LAST', 'CHG_PCT_1D']]"
   ]
  },
  {
   "cell_type": "code",
   "execution_count": 13,
   "id": "bfbe091c",
   "metadata": {},
   "outputs": [],
   "source": [
    "import pandas as pd\n",
    "import numpy as np\n",
    "\n",
    "from scipy.stats.mstats import winsorize\n",
    "\n",
    "from datetime import datetime\n",
    "import pandas_market_calendars as mcal"
   ]
  },
  {
   "cell_type": "code",
   "execution_count": 14,
   "id": "90a2ee49",
   "metadata": {},
   "outputs": [
    {
     "name": "stderr",
     "output_type": "stream",
     "text": [
      "C:\\Users\\chanj\\OneDrive\\바탕 화면\\life_web_ui\\web_Dataset_Preprocessing.py:35: SettingWithCopyWarning: \n",
      "A value is trying to be set on a copy of a slice from a DataFrame.\n",
      "Try using .loc[row_indexer,col_indexer] = value instead\n",
      "\n",
      "See the caveats in the documentation: https://pandas.pydata.org/pandas-docs/stable/user_guide/indexing.html#returning-a-view-versus-a-copy\n",
      "  self.df['date'] = pd.to_datetime(self.df['date'])\n",
      "C:\\Users\\chanj\\OneDrive\\바탕 화면\\life_web_ui\\web_Dataset_Preprocessing.py:39: SettingWithCopyWarning: \n",
      "A value is trying to be set on a copy of a slice from a DataFrame.\n",
      "Try using .loc[row_indexer,col_indexer] = value instead\n",
      "\n",
      "See the caveats in the documentation: https://pandas.pydata.org/pandas-docs/stable/user_guide/indexing.html#returning-a-view-versus-a-copy\n",
      "  self.df['LOG_CHG_PCT_1D'] = np.log(self.df['CHG_PCT_1D']/100 + 1)\n",
      "C:\\Users\\chanj\\anaconda3\\lib\\site-packages\\pandas_market_calendars\\market_calendar.py:144: UserWarning: ['break_start', 'break_end'] are discontinued, the dictionary `.discontinued_market_times` has the dates on which these were discontinued. The times as of those dates are incorrect, use .remove_time(market_time) to ignore a market_time.\n",
      "  warnings.warn(f\"{list(discontinued.keys())} are discontinued, the dictionary\"\n"
     ]
    },
    {
     "ename": "TypeError",
     "evalue": "'NoneType' object is not subscriptable",
     "output_type": "error",
     "traceback": [
      "\u001b[1;31m---------------------------------------------------------------------------\u001b[0m",
      "\u001b[1;31mTypeError\u001b[0m                                 Traceback (most recent call last)",
      "Cell \u001b[1;32mIn[14], line 1\u001b[0m\n\u001b[1;32m----> 1\u001b[0m df_test3 \u001b[38;5;241m=\u001b[39m \u001b[43mD_P\u001b[49m\u001b[38;5;241;43m.\u001b[39;49m\u001b[43mpreprocessing\u001b[49m\u001b[43m(\u001b[49m\u001b[43mdf_test2\u001b[49m\u001b[43m)\u001b[49m\n",
      "File \u001b[1;32m~\\OneDrive\\바탕 화면\\life_web_ui\\web_Dataset_Preprocessing.py:30\u001b[0m, in \u001b[0;36mpreprocessing.__init__\u001b[1;34m(self, df)\u001b[0m\n\u001b[0;32m     28\u001b[0m \u001b[38;5;28mself\u001b[39m\u001b[38;5;241m.\u001b[39mcut_with_valid_date()\n\u001b[0;32m     29\u001b[0m \u001b[38;5;28mself\u001b[39m\u001b[38;5;241m.\u001b[39mfill_na()\n\u001b[1;32m---> 30\u001b[0m \u001b[38;5;28;43mself\u001b[39;49m\u001b[38;5;241;43m.\u001b[39;49m\u001b[43mwinsorizing\u001b[49m\u001b[43m(\u001b[49m\u001b[43m)\u001b[49m\n\u001b[0;32m     32\u001b[0m \u001b[38;5;28;01mreturn\u001b[39;00m \u001b[38;5;28mself\u001b[39m\u001b[38;5;241m.\u001b[39mdf\n",
      "File \u001b[1;32m~\\OneDrive\\바탕 화면\\life_web_ui\\web_Dataset_Preprocessing.py:76\u001b[0m, in \u001b[0;36mpreprocessing.winsorizing\u001b[1;34m(self)\u001b[0m\n\u001b[0;32m     75\u001b[0m \u001b[38;5;28;01mdef\u001b[39;00m \u001b[38;5;21mwinsorizing\u001b[39m(\u001b[38;5;28mself\u001b[39m):\n\u001b[1;32m---> 76\u001b[0m     \u001b[38;5;28mself\u001b[39m\u001b[38;5;241m.\u001b[39mdf[\u001b[38;5;124m'\u001b[39m\u001b[38;5;124mLOG_CHG_PCT_1D_win\u001b[39m\u001b[38;5;124m'\u001b[39m] \u001b[38;5;241m=\u001b[39m winsorize(\u001b[38;5;28;43mself\u001b[39;49m\u001b[38;5;241;43m.\u001b[39;49m\u001b[43mdf\u001b[49m\u001b[43m[\u001b[49m\u001b[38;5;124;43m'\u001b[39;49m\u001b[38;5;124;43mLOG_CHG_PCT_1D\u001b[39;49m\u001b[38;5;124;43m'\u001b[39;49m\u001b[43m]\u001b[49m, limits\u001b[38;5;241m=\u001b[39m(\u001b[38;5;241m0.05\u001b[39m, \u001b[38;5;241m0.05\u001b[39m))\n",
      "\u001b[1;31mTypeError\u001b[0m: 'NoneType' object is not subscriptable"
     ]
    }
   ],
   "source": [
    "df_test3 = D_P.preprocessing(df_test2)"
   ]
  },
  {
   "cell_type": "code",
   "execution_count": null,
   "id": "7a810f66",
   "metadata": {},
   "outputs": [],
   "source": []
  }
 ],
 "metadata": {
  "kernelspec": {
   "display_name": "Python 3 (ipykernel)",
   "language": "python",
   "name": "python3"
  },
  "language_info": {
   "codemirror_mode": {
    "name": "ipython",
    "version": 3
   },
   "file_extension": ".py",
   "mimetype": "text/x-python",
   "name": "python",
   "nbconvert_exporter": "python",
   "pygments_lexer": "ipython3",
   "version": "3.10.9"
  }
 },
 "nbformat": 4,
 "nbformat_minor": 5
}
