{
 "cells": [
  {
   "cell_type": "markdown",
   "id": "571a026e",
   "metadata": {},
   "source": [
    "# 필요한 패키지 다운로드"
   ]
  },
  {
   "cell_type": "code",
   "execution_count": 3,
   "id": "f03758b8",
   "metadata": {
    "collapsed": true
   },
   "outputs": [
    {
     "name": "stdout",
     "output_type": "stream",
     "text": [
      "Requirement already satisfied: pdblp in c:\\users\\chanj\\appdata\\local\\programs\\python\\python38\\lib\\site-packages (0.1.8)\n",
      "Requirement already satisfied: pandas>=0.18.0 in c:\\users\\chanj\\appdata\\local\\programs\\python\\python38\\lib\\site-packages (from pdblp) (1.5.2)\n",
      "Requirement already satisfied: python-dateutil>=2.8.1 in c:\\users\\chanj\\appdata\\local\\programs\\python\\python38\\lib\\site-packages (from pandas>=0.18.0->pdblp) (2.8.2)\n",
      "Requirement already satisfied: pytz>=2020.1 in c:\\users\\chanj\\appdata\\local\\programs\\python\\python38\\lib\\site-packages (from pandas>=0.18.0->pdblp) (2022.7.1)\n",
      "Requirement already satisfied: numpy>=1.20.3 in c:\\users\\chanj\\appdata\\local\\programs\\python\\python38\\lib\\site-packages (from pandas>=0.18.0->pdblp) (1.23.5)\n",
      "Requirement already satisfied: six>=1.5 in c:\\users\\chanj\\appdata\\local\\programs\\python\\python38\\lib\\site-packages (from python-dateutil>=2.8.1->pandas>=0.18.0->pdblp) (1.16.0)\n"
     ]
    },
    {
     "name": "stderr",
     "output_type": "stream",
     "text": [
      "ERROR: Could not find a version that satisfies the requirement blpapi (from versions: none)\n",
      "ERROR: No matching distribution found for blpapi\n"
     ]
    }
   ],
   "source": [
    "!pip install pdblp\n",
    "!pip install blpapi"
   ]
  },
  {
   "cell_type": "code",
   "execution_count": 2,
   "id": "ac3a3119",
   "metadata": {
    "collapsed": true
   },
   "outputs": [
    {
     "ename": "ModuleNotFoundError",
     "evalue": "No module named 'blpapi'",
     "output_type": "error",
     "traceback": [
      "\u001b[1;31m---------------------------------------------------------------------------\u001b[0m",
      "\u001b[1;31mModuleNotFoundError\u001b[0m                       Traceback (most recent call last)",
      "Cell \u001b[1;32mIn[2], line 1\u001b[0m\n\u001b[1;32m----> 1\u001b[0m \u001b[39mimport\u001b[39;00m \u001b[39mpdblp\u001b[39;00m\n",
      "File \u001b[1;32mc:\\Users\\chanj\\AppData\\Local\\Programs\\Python\\Python38\\lib\\site-packages\\pdblp\\__init__.py:1\u001b[0m\n\u001b[1;32m----> 1\u001b[0m \u001b[39mfrom\u001b[39;00m \u001b[39m.\u001b[39;00m\u001b[39mpdblp\u001b[39;00m \u001b[39mimport\u001b[39;00m BCon  \u001b[39m# NOQA\u001b[39;00m\n\u001b[0;32m      2\u001b[0m \u001b[39mfrom\u001b[39;00m \u001b[39m.\u001b[39;00m\u001b[39mpdblp\u001b[39;00m \u001b[39mimport\u001b[39;00m bopen  \u001b[39m# NOQA\u001b[39;00m\n\u001b[0;32m      3\u001b[0m \u001b[39mfrom\u001b[39;00m \u001b[39m.\u001b[39;00m\u001b[39m_version\u001b[39;00m \u001b[39mimport\u001b[39;00m __version__  \u001b[39m# NOQA\u001b[39;00m\n",
      "File \u001b[1;32mc:\\Users\\chanj\\AppData\\Local\\Programs\\Python\\Python38\\lib\\site-packages\\pdblp\\pdblp.py:4\u001b[0m\n\u001b[0;32m      1\u001b[0m \u001b[39mimport\u001b[39;00m \u001b[39mlogging\u001b[39;00m\n\u001b[0;32m      2\u001b[0m \u001b[39mimport\u001b[39;00m \u001b[39mcontextlib\u001b[39;00m\n\u001b[1;32m----> 4\u001b[0m \u001b[39mimport\u001b[39;00m \u001b[39mblpapi\u001b[39;00m\n\u001b[0;32m      5\u001b[0m \u001b[39mimport\u001b[39;00m \u001b[39mnumpy\u001b[39;00m \u001b[39mas\u001b[39;00m \u001b[39mnp\u001b[39;00m\n\u001b[0;32m      6\u001b[0m \u001b[39mimport\u001b[39;00m \u001b[39mpandas\u001b[39;00m \u001b[39mas\u001b[39;00m \u001b[39mpd\u001b[39;00m\n",
      "\u001b[1;31mModuleNotFoundError\u001b[0m: No module named 'blpapi'"
     ]
    }
   ],
   "source": [
    "import pdblp"
   ]
  },
  {
   "cell_type": "markdown",
   "id": "bbbd3811",
   "metadata": {},
   "source": [
    "# 블룸버그 터미널 연결"
   ]
  },
  {
   "cell_type": "code",
   "execution_count": null,
   "id": "c37da1ed",
   "metadata": {},
   "outputs": [],
   "source": [
    "con = pdblp.BCon(debug = False, port=8194, timeout=5000)\n",
    "    # Bloomberg 서비스에 연결하기 위한 BCon 객체 생성\n",
    "    # debug=False는 디버그 모드를 비활성화하는 옵션, 디버그 모드를 활성화하면 더 자세한 정보를 얻을 수 있지만, 일반적으로는 비활성화하는 것이 좋음\n",
    "    # port=8194는 Bloomberg 서비스에 연결하기 위한 포트 번호, 기본 포트 번호는 8194\n",
    "    # timeout=5000은 연결 시도를 중지하고 예외를 발생시킬 최대 대기 시간(밀리초), 5000밀리초(5초)로 설정되어 있으므로, 연결 시도가 5초 동안 성공하지 않으면 예외가 발생\n",
    "\n",
    "con.start()"
   ]
  },
  {
   "cell_type": "markdown",
   "id": "d88f7a7a",
   "metadata": {},
   "source": [
    "# Daily 데이터 받아오기"
   ]
  },
  {
   "cell_type": "code",
   "execution_count": null,
   "id": "518b2a12",
   "metadata": {},
   "outputs": [],
   "source": []
  }
 ],
 "metadata": {
  "kernelspec": {
   "display_name": "conda",
   "language": "python",
   "name": "conda"
  },
  "language_info": {
   "codemirror_mode": {
    "name": "ipython",
    "version": 3
   },
   "file_extension": ".py",
   "mimetype": "text/x-python",
   "name": "python",
   "nbconvert_exporter": "python",
   "pygments_lexer": "ipython3",
   "version": "3.8.0"
  }
 },
 "nbformat": 4,
 "nbformat_minor": 5
}
