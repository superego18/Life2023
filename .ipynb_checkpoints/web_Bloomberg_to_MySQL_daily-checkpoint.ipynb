{
 "cells": [
  {
   "cell_type": "markdown",
   "id": "571a026e",
   "metadata": {},
   "source": [
    "# 필요한 패키지 다운로드"
   ]
  },
  {
   "cell_type": "code",
   "execution_count": 2,
   "id": "f03758b8",
   "metadata": {
    "collapsed": true
   },
   "outputs": [
    {
     "name": "stdout",
     "output_type": "stream",
     "text": [
      "Requirement already satisfied: pdblp in /Users/admin/anaconda3/lib/python3.10/site-packages (0.1.8)\r\n",
      "Requirement already satisfied: pandas>=0.18.0 in /Users/admin/anaconda3/lib/python3.10/site-packages (from pdblp) (1.5.3)\r\n",
      "Requirement already satisfied: python-dateutil>=2.8.1 in /Users/admin/anaconda3/lib/python3.10/site-packages (from pandas>=0.18.0->pdblp) (2.8.2)\r\n",
      "Requirement already satisfied: pytz>=2020.1 in /Users/admin/anaconda3/lib/python3.10/site-packages (from pandas>=0.18.0->pdblp) (2022.7)\r\n",
      "Requirement already satisfied: numpy>=1.21.0 in /Users/admin/anaconda3/lib/python3.10/site-packages (from pandas>=0.18.0->pdblp) (1.23.5)\r\n",
      "Requirement already satisfied: six>=1.5 in /Users/admin/anaconda3/lib/python3.10/site-packages (from python-dateutil>=2.8.1->pandas>=0.18.0->pdblp) (1.16.0)\r\n"
     ]
    }
   ],
   "source": [
    "!pip install pdblp"
   ]
  },
  {
   "cell_type": "code",
   "execution_count": 4,
   "id": "ac3a3119",
   "metadata": {
    "collapsed": true
   },
   "outputs": [
    {
     "ename": "ImportError",
     "evalue": "dlopen(/Users/admin/anaconda3/lib/python3.10/site-packages/blpapi/_versionhelper.cpython-310-darwin.so, 0x0002): tried: '/Users/admin/anaconda3/lib/python3.10/site-packages/blpapi/_versionhelper.cpython-310-darwin.so' (mach-o file, but is an incompatible architecture (have 'x86_64', need 'arm64')), '/System/Volumes/Preboot/Cryptexes/OS/Users/admin/anaconda3/lib/python3.10/site-packages/blpapi/_versionhelper.cpython-310-darwin.so' (no such file), '/Users/admin/anaconda3/lib/python3.10/site-packages/blpapi/_versionhelper.cpython-310-darwin.so' (mach-o file, but is an incompatible architecture (have 'x86_64', need 'arm64'))\n\nCould not open the C++ SDK library.\n\nDownload and install the latest C++ SDK from:\n\n    http://www.bloomberg.com/professional/api-library\n\nIf the C++ SDK is already installed, please ensure that the path to the library\nwas added to DYLD_LIBRARY_PATH before entering the interpreter.\n\n",
     "output_type": "error",
     "traceback": [
      "\u001b[0;31m---------------------------------------------------------------------------\u001b[0m",
      "\u001b[0;31mImportError\u001b[0m                               Traceback (most recent call last)",
      "File \u001b[0;32m~/anaconda3/lib/python3.10/site-packages/blpapi/__init__.py:27\u001b[0m\n\u001b[1;32m     26\u001b[0m \u001b[38;5;28;01mtry\u001b[39;00m:\n\u001b[0;32m---> 27\u001b[0m     \u001b[38;5;28;01mfrom\u001b[39;00m \u001b[38;5;21;01m.\u001b[39;00m\u001b[38;5;21;01minternals\u001b[39;00m \u001b[38;5;28;01mimport\u001b[39;00m CorrelationId\n\u001b[1;32m     28\u001b[0m \u001b[38;5;28;01mexcept\u001b[39;00m \u001b[38;5;167;01mImportError\u001b[39;00m \u001b[38;5;28;01mas\u001b[39;00m error:\n\u001b[1;32m     29\u001b[0m     \u001b[38;5;66;03m# The most likely reason for a failure here is a failure to locate the\u001b[39;00m\n\u001b[1;32m     30\u001b[0m     \u001b[38;5;66;03m# shared object for the C++ library. Provide a meaningful error message.\u001b[39;00m\n",
      "File \u001b[0;32m~/anaconda3/lib/python3.10/site-packages/blpapi/internals.py:37\u001b[0m\n\u001b[1;32m     36\u001b[0m \u001b[38;5;28;01mif\u001b[39;00m __package__ \u001b[38;5;129;01mor\u001b[39;00m \u001b[38;5;124m\"\u001b[39m\u001b[38;5;124m.\u001b[39m\u001b[38;5;124m\"\u001b[39m \u001b[38;5;129;01min\u001b[39;00m \u001b[38;5;18m__name__\u001b[39m:\n\u001b[0;32m---> 37\u001b[0m     \u001b[38;5;28;01mfrom\u001b[39;00m \u001b[38;5;21;01m.\u001b[39;00m \u001b[38;5;28;01mimport\u001b[39;00m _internals\n\u001b[1;32m     38\u001b[0m \u001b[38;5;28;01melse\u001b[39;00m:\n",
      "\u001b[0;31mImportError\u001b[0m: dlopen(/Users/admin/anaconda3/lib/python3.10/site-packages/blpapi/_internals.cpython-310-darwin.so, 0x0002): tried: '/Users/admin/anaconda3/lib/python3.10/site-packages/blpapi/_internals.cpython-310-darwin.so' (mach-o file, but is an incompatible architecture (have 'x86_64', need 'arm64')), '/System/Volumes/Preboot/Cryptexes/OS/Users/admin/anaconda3/lib/python3.10/site-packages/blpapi/_internals.cpython-310-darwin.so' (no such file), '/Users/admin/anaconda3/lib/python3.10/site-packages/blpapi/_internals.cpython-310-darwin.so' (mach-o file, but is an incompatible architecture (have 'x86_64', need 'arm64'))",
      "\nDuring handling of the above exception, another exception occurred:\n",
      "\u001b[0;31mImportError\u001b[0m                               Traceback (most recent call last)",
      "Cell \u001b[0;32mIn[4], line 1\u001b[0m\n\u001b[0;32m----> 1\u001b[0m \u001b[38;5;28;01mfrom\u001b[39;00m \u001b[38;5;21;01mpdblp\u001b[39;00m \u001b[38;5;28;01mimport\u001b[39;00m Bcon\n",
      "File \u001b[0;32m~/anaconda3/lib/python3.10/site-packages/pdblp/__init__.py:1\u001b[0m\n\u001b[0;32m----> 1\u001b[0m \u001b[38;5;28;01mfrom\u001b[39;00m \u001b[38;5;21;01m.\u001b[39;00m\u001b[38;5;21;01mpdblp\u001b[39;00m \u001b[38;5;28;01mimport\u001b[39;00m BCon  \u001b[38;5;66;03m# NOQA\u001b[39;00m\n\u001b[1;32m      2\u001b[0m \u001b[38;5;28;01mfrom\u001b[39;00m \u001b[38;5;21;01m.\u001b[39;00m\u001b[38;5;21;01mpdblp\u001b[39;00m \u001b[38;5;28;01mimport\u001b[39;00m bopen  \u001b[38;5;66;03m# NOQA\u001b[39;00m\n\u001b[1;32m      3\u001b[0m \u001b[38;5;28;01mfrom\u001b[39;00m \u001b[38;5;21;01m.\u001b[39;00m\u001b[38;5;21;01m_version\u001b[39;00m \u001b[38;5;28;01mimport\u001b[39;00m __version__\n",
      "File \u001b[0;32m~/anaconda3/lib/python3.10/site-packages/pdblp/pdblp.py:4\u001b[0m\n\u001b[1;32m      1\u001b[0m \u001b[38;5;28;01mimport\u001b[39;00m \u001b[38;5;21;01mlogging\u001b[39;00m\n\u001b[1;32m      2\u001b[0m \u001b[38;5;28;01mimport\u001b[39;00m \u001b[38;5;21;01mcontextlib\u001b[39;00m\n\u001b[0;32m----> 4\u001b[0m \u001b[38;5;28;01mimport\u001b[39;00m \u001b[38;5;21;01mblpapi\u001b[39;00m\n\u001b[1;32m      5\u001b[0m \u001b[38;5;28;01mimport\u001b[39;00m \u001b[38;5;21;01mnumpy\u001b[39;00m \u001b[38;5;28;01mas\u001b[39;00m \u001b[38;5;21;01mnp\u001b[39;00m\n\u001b[1;32m      6\u001b[0m \u001b[38;5;28;01mimport\u001b[39;00m \u001b[38;5;21;01mpandas\u001b[39;00m \u001b[38;5;28;01mas\u001b[39;00m \u001b[38;5;21;01mpd\u001b[39;00m\n",
      "File \u001b[0;32m~/anaconda3/lib/python3.10/site-packages/blpapi/__init__.py:33\u001b[0m\n\u001b[1;32m     28\u001b[0m \u001b[38;5;28;01mexcept\u001b[39;00m \u001b[38;5;167;01mImportError\u001b[39;00m \u001b[38;5;28;01mas\u001b[39;00m error:\n\u001b[1;32m     29\u001b[0m     \u001b[38;5;66;03m# The most likely reason for a failure here is a failure to locate the\u001b[39;00m\n\u001b[1;32m     30\u001b[0m     \u001b[38;5;66;03m# shared object for the C++ library. Provide a meaningful error message.\u001b[39;00m\n\u001b[1;32m     31\u001b[0m     \u001b[38;5;28;01mfrom\u001b[39;00m \u001b[38;5;21;01m.\u001b[39;00m\u001b[38;5;21;01mdebug\u001b[39;00m \u001b[38;5;28;01mimport\u001b[39;00m debug_load_error\n\u001b[0;32m---> 33\u001b[0m     \u001b[38;5;28;01mraise\u001b[39;00m debug_load_error(error)\n\u001b[1;32m     35\u001b[0m \u001b[38;5;28;01mfrom\u001b[39;00m \u001b[38;5;21;01m.\u001b[39;00m\u001b[38;5;21;01mabstractsession\u001b[39;00m \u001b[38;5;28;01mimport\u001b[39;00m AbstractSession\n\u001b[1;32m     36\u001b[0m \u001b[38;5;28;01mfrom\u001b[39;00m \u001b[38;5;21;01m.\u001b[39;00m\u001b[38;5;21;01mauth\u001b[39;00m \u001b[38;5;28;01mimport\u001b[39;00m AuthOptions, AuthUser\n",
      "\u001b[0;31mImportError\u001b[0m: dlopen(/Users/admin/anaconda3/lib/python3.10/site-packages/blpapi/_versionhelper.cpython-310-darwin.so, 0x0002): tried: '/Users/admin/anaconda3/lib/python3.10/site-packages/blpapi/_versionhelper.cpython-310-darwin.so' (mach-o file, but is an incompatible architecture (have 'x86_64', need 'arm64')), '/System/Volumes/Preboot/Cryptexes/OS/Users/admin/anaconda3/lib/python3.10/site-packages/blpapi/_versionhelper.cpython-310-darwin.so' (no such file), '/Users/admin/anaconda3/lib/python3.10/site-packages/blpapi/_versionhelper.cpython-310-darwin.so' (mach-o file, but is an incompatible architecture (have 'x86_64', need 'arm64'))\n\nCould not open the C++ SDK library.\n\nDownload and install the latest C++ SDK from:\n\n    http://www.bloomberg.com/professional/api-library\n\nIf the C++ SDK is already installed, please ensure that the path to the library\nwas added to DYLD_LIBRARY_PATH before entering the interpreter.\n\n"
     ]
    }
   ],
   "source": [
    "import pdblp"
   ]
  },
  {
   "cell_type": "markdown",
   "id": "bbbd3811",
   "metadata": {},
   "source": [
    "# 블룸버그 터미널 연결"
   ]
  },
  {
   "cell_type": "code",
   "execution_count": null,
   "id": "c37da1ed",
   "metadata": {},
   "outputs": [],
   "source": [
    "con = pdblp.BCon(debug = False, port=8194, timeout=5000)\n",
    "    # Bloomberg 서비스에 연결하기 위한 BCon 객체 생성\n",
    "    # debug=False는 디버그 모드를 비활성화하는 옵션, 디버그 모드를 활성화하면 더 자세한 정보를 얻을 수 있지만, 일반적으로는 비활성화하는 것이 좋음\n",
    "    # port=8194는 Bloomberg 서비스에 연결하기 위한 포트 번호, 기본 포트 번호는 8194\n",
    "    # timeout=5000은 연결 시도를 중지하고 예외를 발생시킬 최대 대기 시간(밀리초), 5000밀리초(5초)로 설정되어 있으므로, 연결 시도가 5초 동안 성공하지 않으면 예외가 발생\n",
    "\n",
    "con.start()"
   ]
  },
  {
   "cell_type": "markdown",
   "id": "d88f7a7a",
   "metadata": {},
   "source": [
    "# Daily 데이터 받아오기"
   ]
  },
  {
   "cell_type": "code",
   "execution_count": null,
   "id": "518b2a12",
   "metadata": {},
   "outputs": [],
   "source": []
  }
 ],
 "metadata": {
  "kernelspec": {
   "display_name": "Python 3 (ipykernel)",
   "language": "python",
   "name": "python3"
  },
  "language_info": {
   "codemirror_mode": {
    "name": "ipython",
    "version": 3
   },
   "file_extension": ".py",
   "mimetype": "text/x-python",
   "name": "python",
   "nbconvert_exporter": "python",
   "pygments_lexer": "ipython3",
   "version": "3.10.9"
  }
 },
 "nbformat": 4,
 "nbformat_minor": 5
}
