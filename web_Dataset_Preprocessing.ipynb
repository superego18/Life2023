{
 "cells": [
  {
   "cell_type": "markdown",
   "id": "9a499cb6",
   "metadata": {},
   "source": [
    "# 필요한 패키지 다운로드"
   ]
  },
  {
   "cell_type": "code",
   "execution_count": 4,
   "id": "3d8fe905",
   "metadata": {},
   "outputs": [],
   "source": [
    "import pandas as pd\n",
    "import numpy as np\n",
    "\n",
    "from scipy.stats.mstats import winsorize\n",
    "\n",
    "from datetime import datetime\n",
    "import pandas_market_calendars as mcal"
   ]
  },
  {
   "cell_type": "markdown",
   "id": "04d43f4e",
   "metadata": {},
   "source": [
    "# 데이터셋 전처리"
   ]
  },
  {
   "cell_type": "code",
   "execution_count": 4,
   "id": "40b3d32e",
   "metadata": {},
   "outputs": [],
   "source": [
    "class preprocessing:\n",
    "    def __init__(self, df):\n",
    "        self.df = df\n",
    "        self.index_to_datetime()\n",
    "        self.make_log_chg_pct_1d()\n",
    "        self.cut_with_valid_date()\n",
    "        self.fill_na()\n",
    "        self.winsorizing()\n",
    "        \n",
    "        return self.df\n",
    "        \n",
    "    def index_to_datetime(self):\n",
    "        self.df['date'] = pd.to_datetime(self.df['date'])\n",
    "        self.df.set_index('date', inplace=True)\n",
    "        \n",
    "    def make_log_chg_pct_1d(self):\n",
    "        self.df['LOG_CHG_PCT_1D'] = np.log(self.df['CHG_PCT_1D']/100 + 1)\n",
    "    \n",
    "    def cut_with_valid_date(self):\n",
    "        first_valid_date = np.where(~np.isnan(self.df.to_numpy()).any(axis=1))[0][0]\n",
    "        self.df = self.df.iloc[first_valid_date:]\n",
    "        \n",
    "    def get_na_days_list(self, market1, market2, start_date, end_date):\n",
    "    \n",
    "        start_date_str = start_date.strftime('%Y-%m-%d')\n",
    "        end_date_str = end_date.strftime('%Y-%m-%d')\n",
    "\n",
    "        krx_trading_day = market1.schedule(start_date=start_date, end_date=end_date).index.tolist()\n",
    "        nyse_trading_day = market2.schedule(start_date=start_date, end_date=end_date).index.tolist()\n",
    "\n",
    "        null_days_list = sorted(set(krx_trading_day + nyse_trading_day) - set(self.df.index))\n",
    "\n",
    "        return null_days_list\n",
    "    \n",
    "    def fill_na_by_column(self):\n",
    "        columns_ffill = ['PX_LAST']\n",
    "        columns_zero_fill = ['CHG_PCT_1D', 'LOG_CHG_PCT_1D']\n",
    "\n",
    "        for column in columns_ffill:\n",
    "            self.df[column] = self.df[column].fillna(method='ffill')\n",
    "\n",
    "        for column in columns_zero_fill:\n",
    "            self.df[column] = self.df[column].fillna(0)\n",
    "\n",
    "    def fill_na(self):\n",
    "        krx = mcal.get_calendar('XKRX')\n",
    "        nyse = mcal.get_calendar('NYSE')\n",
    "        \n",
    "        index_to_fill = self.get_na_days_list(krx, nyse, self.df.index[0], self.df.index[-1])  \n",
    "        self.df = self.df.reindex(self.df.index.union(index_to_fill))\n",
    "        self.df = self.fill_na_by_column()\n",
    "        \n",
    "    def winsorizing(self):\n",
    "        self.df['LOG_CHG_PCT_1D_win'] = winsorize(self.df['LOG_CHG_PCT_1D'], limits=(0.05, 0.05))"
   ]
  }
 ],
 "metadata": {
  "kernelspec": {
   "display_name": "Python 3 (ipykernel)",
   "language": "python",
   "name": "python3"
  },
  "language_info": {
   "codemirror_mode": {
    "name": "ipython",
    "version": 3
   },
   "file_extension": ".py",
   "mimetype": "text/x-python",
   "name": "python",
   "nbconvert_exporter": "python",
   "pygments_lexer": "ipython3",
   "version": "3.10.9"
  }
 },
 "nbformat": 4,
 "nbformat_minor": 5
}
