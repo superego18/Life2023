{
 "cells": [
  {
   "cell_type": "markdown",
   "id": "9a499cb6",
   "metadata": {},
   "source": [
    "# 필요한 패키지 다운로드"
   ]
  },
  {
   "cell_type": "code",
   "execution_count": 4,
   "id": "3d8fe905",
   "metadata": {},
   "outputs": [],
   "source": [
    "import pandas as pd\n",
    "import numpy as np\n",
    "\n",
    "from scipy.stats.mstats import winsorize\n",
    "\n",
    "from datetime import datetime\n",
    "import pandas_market_calendars as mcal"
   ]
  },
  {
   "cell_type": "markdown",
   "id": "04d43f4e",
   "metadata": {},
   "source": [
    "# 데이터셋 전처리"
   ]
  },
  {
   "cell_type": "markdown",
   "id": "45f39fc3",
   "metadata": {},
   "source": [
    "⬇️ (차후 개선) timezone 달라서 러셀 맨 뒤에 nan 생기는 거 다른 코드에서 막아야 함"
   ]
  },
  {
   "cell_type": "code",
   "execution_count": 5,
   "id": "71dcad9f",
   "metadata": {},
   "outputs": [
    {
     "name": "stderr",
     "output_type": "stream",
     "text": [
      "C:\\Users\\chanj\\anaconda3\\lib\\site-packages\\pandas_market_calendars\\market_calendar.py:144: UserWarning: ['break_start', 'break_end'] are discontinued, the dictionary `.discontinued_market_times` has the dates on which these were discontinued. The times as of those dates are incorrect, use .remove_time(market_time) to ignore a market_time.\n",
      "  warnings.warn(f\"{list(discontinued.keys())} are discontinued, the dictionary\"\n"
     ]
    }
   ],
   "source": [
    "def get_na_days_list(df, market1, market2, start_date, end_date):\n",
    "    \n",
    "    start_date_str = start_date.strftime('%Y-%m-%d')\n",
    "    end_date_str = end_date.strftime('%Y-%m-%d')\n",
    "    \n",
    "    krx_trading_day = market1.schedule(start_date=start_date, end_date=end_date).index.tolist()\n",
    "    nyse_trading_day = market2.schedule(start_date=start_date, end_date=end_date).index.tolist()\n",
    "    \n",
    "    null_days_list = sorted(set(krx_trading_day.index + nyse_trading_day.index) - set(df.index))\n",
    "\n",
    "    return null_days_list\n",
    "\n",
    "krx = mcal.get_calendar('XKRX')\n",
    "nyse = mcal.get_calendar('NYSE')"
   ]
  },
  {
   "cell_type": "code",
   "execution_count": 6,
   "id": "4710b1d2",
   "metadata": {},
   "outputs": [],
   "source": [
    "def fill_na_by_column(df):\n",
    "    columns_ffill = ['PX_LAST']\n",
    "    columns_zero_fill = ['CHG_PCT_1D', 'LOG_CHG_PCT_1D']\n",
    "    \n",
    "    for column in columns_ffill:\n",
    "        df[column] = df[column].fillna(method='ffill')\n",
    "    \n",
    "    for column in columns_zero_fill:\n",
    "        df[column] = df[column].fillna(0)\n",
    "        \n",
    "    return df"
   ]
  },
  {
   "cell_type": "code",
   "execution_count": 7,
   "id": "40b3d32e",
   "metadata": {},
   "outputs": [],
   "source": [
    "class preprocessing:\n",
    "    def __init__(self, df, mode):\n",
    "        self.df = df\n",
    "        self.mode = mode\n",
    "        self.index_to_datetime()\n",
    "        self.make_log_chg_pct_1d()\n",
    "        self.cut_with_valid_date()\n",
    "        self.fill_non_shared_holidays()\n",
    "        self.winsorizing()\n",
    "        \n",
    "    def index_to_datetime(self):\n",
    "        self.df['date'] = pd.to_datetime(self.df['date'])\n",
    "        self.df.set_index('date', inplace=True)\n",
    "        \n",
    "    def make_log_chg_pct_1d(self):\n",
    "        self.df['LOG_CHG_PCT_1D'] = np.log(self.df['CHG_PCT_1D']/100 + 1)\n",
    "    \n",
    "    def cut_with_valid_date(self):\n",
    "        first_valid_date = np.where(~np.isnan(self.df.to_numpy()).any(axis=1))[0][0]\n",
    "        self.df = self.df.iloc[first_valid_date:]\n",
    "        \n",
    "    def fill_na(self):\n",
    "        index_to_fill = get_na_days_list(self.df, krx, nyse, self.df.index[0], self.df.index[-1])  \n",
    "        self.df = self.df.reindex(self.df.index.union(index_to_fill))\n",
    "        self.df = fill_na(self.df)\n",
    "        \n",
    "    def winsorizing(self):\n",
    "        self.df['LOG_CHG_PCT_1D_win'] = winsorize(self.df['LOG_CHG_PCT_1D'], limits=(0.05, 0.05))"
   ]
  }
 ],
 "metadata": {
  "kernelspec": {
   "display_name": "Python 3 (ipykernel)",
   "language": "python",
   "name": "python3"
  },
  "language_info": {
   "codemirror_mode": {
    "name": "ipython",
    "version": 3
   },
   "file_extension": ".py",
   "mimetype": "text/x-python",
   "name": "python",
   "nbconvert_exporter": "python",
   "pygments_lexer": "ipython3",
   "version": "3.10.9"
  }
 },
 "nbformat": 4,
 "nbformat_minor": 5
}
