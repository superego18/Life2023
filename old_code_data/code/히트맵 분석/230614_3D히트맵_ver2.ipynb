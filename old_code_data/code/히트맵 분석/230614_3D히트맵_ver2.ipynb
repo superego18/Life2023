{
 "cells": [
  {
   "cell_type": "markdown",
   "id": "6bcb7c60",
   "metadata": {},
   "source": [
    "# Load Library"
   ]
  },
  {
   "cell_type": "markdown",
   "id": "b918791f",
   "metadata": {},
   "source": [
    "# 자동화"
   ]
  },
  {
   "cell_type": "code",
   "execution_count": 36,
   "id": "e1820b9c",
   "metadata": {},
   "outputs": [],
   "source": [
    "kospi_members_df = pd.read_csv(f\"{path}/dataset-members/dataset-KOSPI200-members.csv\")"
   ]
  },
  {
   "cell_type": "code",
   "execution_count": 42,
   "id": "a59c130e",
   "metadata": {},
   "outputs": [],
   "source": [
    "kospi_members_list = np.array(kospi_members_df['value'], dtype=object)"
   ]
  },
  {
   "cell_type": "code",
   "execution_count": 106,
   "id": "22546bff",
   "metadata": {},
   "outputs": [],
   "source": [
    "kospi_random = np.random.choice(kospi_members_list, num, replace=False)"
   ]
  },
  {
   "cell_type": "code",
   "execution_count": 49,
   "id": "6e77a1eb",
   "metadata": {},
   "outputs": [],
   "source": [
    "russell_members_df = pd.read_csv(f\"{path}/dataset-members/dataset-RUSSELL1000-members.csv\")"
   ]
  },
  {
   "cell_type": "code",
   "execution_count": 50,
   "id": "68319e3a",
   "metadata": {},
   "outputs": [],
   "source": [
    "russell_members_list = np.array(russell_members_df['value'], dtype=object)"
   ]
  },
  {
   "cell_type": "code",
   "execution_count": 109,
   "id": "60a569b3",
   "metadata": {},
   "outputs": [],
   "source": [
    "russell_random = np.random.choice(russell_members_list, num, replace=False)"
   ]
  },
  {
   "cell_type": "code",
   "execution_count": 113,
   "id": "01f90e7e",
   "metadata": {},
   "outputs": [
    {
     "ename": "SyntaxError",
     "evalue": "invalid syntax (288156626.py, line 7)",
     "output_type": "error",
     "traceback": [
      "\u001b[1;36m  Cell \u001b[1;32mIn[113], line 7\u001b[1;36m\u001b[0m\n\u001b[1;33m    aa =\u001b[0m\n\u001b[1;37m         ^\u001b[0m\n\u001b[1;31mSyntaxError\u001b[0m\u001b[1;31m:\u001b[0m invalid syntax\n"
     ]
    }
   ],
   "source": [
    "for kospi_ticker, russel_ticker in zip(kospi_random, russell_random):\n",
    "    df = pd.read_csv(f'{path}/datasets-KOSPI200/dataset-KOSPI200-{kospi_ticker}.csv')\n",
    "    df2 = pd.read_csv(f'{path}/datasets-RUSSELL3000/dataset-RUSSELL3000-{russel_ticker}.csv')\n",
    "    \n",
    "    data = make_dataset(df,df2)\n",
    "    \n",
    "    try:\n",
    "        result_list.append((kospi_ticker, russel_ticker, tlag_corr_heatmap(data.df_dt, data.df2_dt, kospi_ticker, russel_ticker, timezon=0).heatmap_3d_record(period=60, cutoff=0.4)))\n",
    "    \n",
    "    except:\n",
    "        result_list.append((kospi_ticker, russel_ticker, 'error'))\n",
    "        \n",
    "    print(result_list[-1])"
   ]
  },
  {
   "cell_type": "markdown",
   "id": "d26e3c58",
   "metadata": {},
   "source": [
    "# Make Dataset"
   ]
  },
  {
   "cell_type": "markdown",
   "id": "badcfa16",
   "metadata": {},
   "source": [
    "티커 입력 및 데이터셋 로딩"
   ]
  },
  {
   "cell_type": "code",
   "execution_count": 4,
   "id": "2d728248",
   "metadata": {},
   "outputs": [],
   "source": [
    "path = '/Users/admin/Desktop/Life/DataSet_230605'"
   ]
  },
  {
   "cell_type": "code",
   "execution_count": 9,
   "id": "0848a893",
   "metadata": {},
   "outputs": [],
   "source": [
    "path = 'C:/Users/chanj/OneDrive/바탕 화면/Life/datasets-total-ver23060812'"
   ]
  },
  {
   "cell_type": "code",
   "execution_count": 10,
   "id": "3a223a99",
   "metadata": {},
   "outputs": [],
   "source": [
    "df = pd.read_csv(f'{path}/datasets-KOSPI200/dataset-KOSPI200-{kospi_ticker}.csv')\n",
    "df2 = pd.read_csv(f'{path}/datasets-RUSSELL3000/dataset-RUSSELL3000-{russel_ticker}.csv')"
   ]
  },
  {
   "cell_type": "markdown",
   "id": "0778f1b6",
   "metadata": {},
   "source": [
    "데이터셋의 인덱스를 datetime객체로 수정, PX_LAST랑 로그 수익률만 남기기"
   ]
  },
  {
   "cell_type": "markdown",
   "id": "d572c07c",
   "metadata": {},
   "source": [
    "수정된 데이터셋 확인 및 결측치 확인 (결측치는 히트맵 클래스에서 수정 예정)"
   ]
  }
 ],
 "metadata": {
  "kernelspec": {
   "display_name": "Python 3 (ipykernel)",
   "language": "python",
   "name": "python3"
  },
  "language_info": {
   "codemirror_mode": {
    "name": "ipython",
    "version": 3
   },
   "file_extension": ".py",
   "mimetype": "text/x-python",
   "name": "python",
   "nbconvert_exporter": "python",
   "pygments_lexer": "ipython3",
   "version": "3.10.9"
  }
 },
 "nbformat": 4,
 "nbformat_minor": 5
}
