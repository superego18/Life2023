{
 "cells": [
  {
   "cell_type": "code",
   "execution_count": 4,
   "id": "b8291970",
   "metadata": {},
   "outputs": [
    {
     "name": "stdout",
     "output_type": "stream",
     "text": [
      "Looking in indexes: https://bcms.bloomberg.com/pip/simple\n",
      "Collecting blpapi\n",
      "  Downloading https://bcms.bloomberg.com/pip/simple/blpapi/blpapi-3.20.1-cp310-cp310-win_amd64.whl (4.7 MB)\n",
      "     ---------------------------------------- 4.7/4.7 MB 1.3 MB/s eta 0:00:00\n",
      "Installing collected packages: blpapi\n",
      "Successfully installed blpapi-3.20.1\n"
     ]
    }
   ],
   "source": [
    "!python -m pip install --index-url=https://bcms.bloomberg.com/pip/simple blpapi"
   ]
  },
  {
   "cell_type": "code",
   "execution_count": 6,
   "id": "133158c9",
   "metadata": {},
   "outputs": [
    {
     "name": "stdout",
     "output_type": "stream",
     "text": [
      "Collecting pdblp\n",
      "  Downloading pdblp-0.1.8.tar.gz (24 kB)\n",
      "  Preparing metadata (setup.py): started\n",
      "  Preparing metadata (setup.py): finished with status 'done'\n",
      "Requirement already satisfied: pandas>=0.18.0 in c:\\users\\chanj\\anaconda3\\lib\\site-packages (from pdblp) (1.5.3)\n",
      "Requirement already satisfied: pytz>=2020.1 in c:\\users\\chanj\\anaconda3\\lib\\site-packages (from pandas>=0.18.0->pdblp) (2022.7)\n",
      "Requirement already satisfied: python-dateutil>=2.8.1 in c:\\users\\chanj\\anaconda3\\lib\\site-packages (from pandas>=0.18.0->pdblp) (2.8.2)\n",
      "Requirement already satisfied: numpy>=1.21.0 in c:\\users\\chanj\\anaconda3\\lib\\site-packages (from pandas>=0.18.0->pdblp) (1.23.5)\n",
      "Requirement already satisfied: six>=1.5 in c:\\users\\chanj\\anaconda3\\lib\\site-packages (from python-dateutil>=2.8.1->pandas>=0.18.0->pdblp) (1.16.0)\n",
      "Building wheels for collected packages: pdblp\n",
      "  Building wheel for pdblp (setup.py): started\n",
      "  Building wheel for pdblp (setup.py): finished with status 'done'\n",
      "  Created wheel for pdblp: filename=pdblp-0.1.8-py3-none-any.whl size=18676 sha256=5f911dd953c7f137976e8285771d35e9f0f404d91e068575c4c1a0a07cb5d952\n",
      "  Stored in directory: c:\\users\\chanj\\appdata\\local\\pip\\cache\\wheels\\36\\4c\\4f\\34b078213bd7c62729f8ad4db4b74cc9f1a4547c5bfc1a8130\n",
      "Successfully built pdblp\n",
      "Installing collected packages: pdblp\n",
      "Successfully installed pdblp-0.1.8\n"
     ]
    }
   ],
   "source": [
    "!pip install pdblp"
   ]
  },
  {
   "cell_type": "code",
   "execution_count": 7,
   "id": "ab289e9f",
   "metadata": {},
   "outputs": [],
   "source": [
    "import pdblp"
   ]
  },
  {
   "cell_type": "code",
   "execution_count": 10,
   "id": "c3962429",
   "metadata": {},
   "outputs": [],
   "source": [
    "from pdblp import BCon"
   ]
  },
  {
   "cell_type": "code",
   "execution_count": 15,
   "id": "91595254",
   "metadata": {},
   "outputs": [],
   "source": [
    "con=BCon(debug=False, port=8194, timeout=5000)"
   ]
  },
  {
   "cell_type": "code",
   "execution_count": 16,
   "id": "cb58e184",
   "metadata": {},
   "outputs": [
    {
     "name": "stderr",
     "output_type": "stream",
     "text": [
      "pdblp.pdblp:WARNING:Message Received:\n",
      "SessionStartupFailure = {\n",
      "    reason = {\n",
      "        source = \"ApiConnector\"\n",
      "        category = \"IO_ERROR\"\n",
      "        errorCode = 8\n",
      "        description = \"connect event failed\"\n",
      "    }\n",
      "}\n",
      "\n"
     ]
    },
    {
     "ename": "ConnectionError",
     "evalue": "Could not start blpapi.Session",
     "output_type": "error",
     "traceback": [
      "\u001b[1;31m---------------------------------------------------------------------------\u001b[0m",
      "\u001b[1;31mConnectionError\u001b[0m                           Traceback (most recent call last)",
      "Cell \u001b[1;32mIn[16], line 1\u001b[0m\n\u001b[1;32m----> 1\u001b[0m \u001b[43mcon\u001b[49m\u001b[38;5;241;43m.\u001b[39;49m\u001b[43mstart\u001b[49m\u001b[43m(\u001b[49m\u001b[43m)\u001b[49m\n",
      "File \u001b[1;32m~\\anaconda3\\lib\\site-packages\\pdblp\\pdblp.py:147\u001b[0m, in \u001b[0;36mBCon.start\u001b[1;34m(self)\u001b[0m\n\u001b[0;32m    145\u001b[0m         \u001b[38;5;28;01mfor\u001b[39;00m msg \u001b[38;5;129;01min\u001b[39;00m ev:\n\u001b[0;32m    146\u001b[0m             logger\u001b[38;5;241m.\u001b[39mwarning(\u001b[38;5;124m'\u001b[39m\u001b[38;5;124mMessage Received:\u001b[39m\u001b[38;5;130;01m\\n\u001b[39;00m\u001b[38;5;132;01m{}\u001b[39;00m\u001b[38;5;124m'\u001b[39m\u001b[38;5;241m.\u001b[39mformat(msg))\n\u001b[1;32m--> 147\u001b[0m         \u001b[38;5;28;01mraise\u001b[39;00m \u001b[38;5;167;01mConnectionError\u001b[39;00m(\u001b[38;5;124m'\u001b[39m\u001b[38;5;124mCould not start blpapi.Session\u001b[39m\u001b[38;5;124m'\u001b[39m)\n\u001b[0;32m    148\u001b[0m \u001b[38;5;28mself\u001b[39m\u001b[38;5;241m.\u001b[39m_init_services()\n\u001b[0;32m    149\u001b[0m \u001b[38;5;28;01mreturn\u001b[39;00m \u001b[38;5;28mself\u001b[39m\n",
      "\u001b[1;31mConnectionError\u001b[0m: Could not start blpapi.Session"
     ]
    }
   ],
   "source": [
    "con.start()"
   ]
  },
  {
   "cell_type": "code",
   "execution_count": 13,
   "id": "358e87f8",
   "metadata": {},
   "outputs": [
    {
     "ename": "AttributeError",
     "evalue": "'BCon' object has no attribute 'refDataService'",
     "output_type": "error",
     "traceback": [
      "\u001b[1;31m---------------------------------------------------------------------------\u001b[0m",
      "\u001b[1;31mAttributeError\u001b[0m                            Traceback (most recent call last)",
      "Cell \u001b[1;32mIn[13], line 1\u001b[0m\n\u001b[1;32m----> 1\u001b[0m \u001b[43mcon\u001b[49m\u001b[38;5;241;43m.\u001b[39;49m\u001b[43mbdh\u001b[49m\u001b[43m(\u001b[49m\u001b[38;5;124;43m'\u001b[39;49m\u001b[38;5;124;43m000060 KS Equity\u001b[39;49m\u001b[38;5;124;43m'\u001b[39;49m\u001b[43m,\u001b[49m\u001b[43m \u001b[49m\u001b[38;5;124;43m'\u001b[39;49m\u001b[38;5;124;43mPX_LAST\u001b[39;49m\u001b[38;5;124;43m'\u001b[39;49m\u001b[43m,\u001b[49m\u001b[43m \u001b[49m\u001b[38;5;124;43m'\u001b[39;49m\u001b[38;5;124;43m20150101\u001b[39;49m\u001b[38;5;124;43m'\u001b[39;49m\u001b[43m,\u001b[49m\u001b[43m \u001b[49m\u001b[38;5;124;43m'\u001b[39;49m\u001b[38;5;124;43m20160101\u001b[39;49m\u001b[38;5;124;43m'\u001b[39;49m\u001b[43m)\u001b[49m\n",
      "File \u001b[1;32m~\\anaconda3\\lib\\site-packages\\pdblp\\pdblp.py:274\u001b[0m, in \u001b[0;36mBCon.bdh\u001b[1;34m(self, tickers, flds, start_date, end_date, elms, ovrds, longdata)\u001b[0m\n\u001b[0;32m    270\u001b[0m elms \u001b[38;5;241m=\u001b[39m [] \u001b[38;5;28;01mif\u001b[39;00m \u001b[38;5;129;01mnot\u001b[39;00m elms \u001b[38;5;28;01melse\u001b[39;00m elms\n\u001b[0;32m    272\u001b[0m elms \u001b[38;5;241m=\u001b[39m \u001b[38;5;28mlist\u001b[39m(elms)\n\u001b[1;32m--> 274\u001b[0m data \u001b[38;5;241m=\u001b[39m \u001b[38;5;28;43mself\u001b[39;49m\u001b[38;5;241;43m.\u001b[39;49m\u001b[43m_bdh_list\u001b[49m\u001b[43m(\u001b[49m\u001b[43mtickers\u001b[49m\u001b[43m,\u001b[49m\u001b[43m \u001b[49m\u001b[43mflds\u001b[49m\u001b[43m,\u001b[49m\u001b[43m \u001b[49m\u001b[43mstart_date\u001b[49m\u001b[43m,\u001b[49m\u001b[43m \u001b[49m\u001b[43mend_date\u001b[49m\u001b[43m,\u001b[49m\n\u001b[0;32m    275\u001b[0m \u001b[43m                      \u001b[49m\u001b[43melms\u001b[49m\u001b[43m,\u001b[49m\u001b[43m \u001b[49m\u001b[43movrds\u001b[49m\u001b[43m)\u001b[49m\n\u001b[0;32m    277\u001b[0m df \u001b[38;5;241m=\u001b[39m pd\u001b[38;5;241m.\u001b[39mDataFrame(data, columns\u001b[38;5;241m=\u001b[39m[\u001b[38;5;124m'\u001b[39m\u001b[38;5;124mdate\u001b[39m\u001b[38;5;124m'\u001b[39m, \u001b[38;5;124m'\u001b[39m\u001b[38;5;124mticker\u001b[39m\u001b[38;5;124m'\u001b[39m, \u001b[38;5;124m'\u001b[39m\u001b[38;5;124mfield\u001b[39m\u001b[38;5;124m'\u001b[39m, \u001b[38;5;124m'\u001b[39m\u001b[38;5;124mvalue\u001b[39m\u001b[38;5;124m'\u001b[39m])\n\u001b[0;32m    278\u001b[0m df\u001b[38;5;241m.\u001b[39mloc[:, \u001b[38;5;124m'\u001b[39m\u001b[38;5;124mdate\u001b[39m\u001b[38;5;124m'\u001b[39m] \u001b[38;5;241m=\u001b[39m pd\u001b[38;5;241m.\u001b[39mto_datetime(df\u001b[38;5;241m.\u001b[39mloc[:, \u001b[38;5;124m'\u001b[39m\u001b[38;5;124mdate\u001b[39m\u001b[38;5;124m'\u001b[39m])\n",
      "File \u001b[1;32m~\\anaconda3\\lib\\site-packages\\pdblp\\pdblp.py:298\u001b[0m, in \u001b[0;36mBCon._bdh_list\u001b[1;34m(self, tickers, flds, start_date, end_date, elms, ovrds)\u001b[0m\n\u001b[0;32m    295\u001b[0m setvals\u001b[38;5;241m.\u001b[39mappend((\u001b[38;5;124m'\u001b[39m\u001b[38;5;124mstartDate\u001b[39m\u001b[38;5;124m'\u001b[39m, start_date))\n\u001b[0;32m    296\u001b[0m setvals\u001b[38;5;241m.\u001b[39mappend((\u001b[38;5;124m'\u001b[39m\u001b[38;5;124mendDate\u001b[39m\u001b[38;5;124m'\u001b[39m, end_date))\n\u001b[1;32m--> 298\u001b[0m request \u001b[38;5;241m=\u001b[39m \u001b[38;5;28;43mself\u001b[39;49m\u001b[38;5;241;43m.\u001b[39;49m\u001b[43m_create_req\u001b[49m\u001b[43m(\u001b[49m\u001b[38;5;124;43m'\u001b[39;49m\u001b[38;5;124;43mHistoricalDataRequest\u001b[39;49m\u001b[38;5;124;43m'\u001b[39;49m\u001b[43m,\u001b[49m\u001b[43m \u001b[49m\u001b[43mtickers\u001b[49m\u001b[43m,\u001b[49m\u001b[43m \u001b[49m\u001b[43mflds\u001b[49m\u001b[43m,\u001b[49m\n\u001b[0;32m    299\u001b[0m \u001b[43m                           \u001b[49m\u001b[43movrds\u001b[49m\u001b[43m,\u001b[49m\u001b[43m \u001b[49m\u001b[43msetvals\u001b[49m\u001b[43m)\u001b[49m\n\u001b[0;32m    300\u001b[0m logger\u001b[38;5;241m.\u001b[39minfo(\u001b[38;5;124m'\u001b[39m\u001b[38;5;124mSending Request:\u001b[39m\u001b[38;5;130;01m\\n\u001b[39;00m\u001b[38;5;132;01m{}\u001b[39;00m\u001b[38;5;124m'\u001b[39m\u001b[38;5;241m.\u001b[39mformat(request))\n\u001b[0;32m    301\u001b[0m \u001b[38;5;66;03m# Send the request\u001b[39;00m\n",
      "File \u001b[1;32m~\\anaconda3\\lib\\site-packages\\pdblp\\pdblp.py:193\u001b[0m, in \u001b[0;36mBCon._create_req\u001b[1;34m(self, rtype, tickers, flds, ovrds, setvals)\u001b[0m\n\u001b[0;32m    190\u001b[0m \u001b[38;5;28;01mwhile\u001b[39;00m(\u001b[38;5;28mself\u001b[39m\u001b[38;5;241m.\u001b[39m_session\u001b[38;5;241m.\u001b[39mtryNextEvent()):\n\u001b[0;32m    191\u001b[0m     \u001b[38;5;28;01mpass\u001b[39;00m\n\u001b[1;32m--> 193\u001b[0m request \u001b[38;5;241m=\u001b[39m \u001b[38;5;28;43mself\u001b[39;49m\u001b[38;5;241;43m.\u001b[39;49m\u001b[43mrefDataService\u001b[49m\u001b[38;5;241m.\u001b[39mcreateRequest(rtype)\n\u001b[0;32m    194\u001b[0m \u001b[38;5;28;01mfor\u001b[39;00m t \u001b[38;5;129;01min\u001b[39;00m tickers:\n\u001b[0;32m    195\u001b[0m     request\u001b[38;5;241m.\u001b[39mgetElement(\u001b[38;5;124m'\u001b[39m\u001b[38;5;124msecurities\u001b[39m\u001b[38;5;124m'\u001b[39m)\u001b[38;5;241m.\u001b[39mappendValue(t)\n",
      "\u001b[1;31mAttributeError\u001b[0m: 'BCon' object has no attribute 'refDataService'"
     ]
    }
   ],
   "source": [
    "con.bdh('000060 KS Equity', 'PX_LAST', '20150101', '20160101')"
   ]
  }
 ],
 "metadata": {
  "kernelspec": {
   "display_name": "Python 3 (ipykernel)",
   "language": "python",
   "name": "python3"
  },
  "language_info": {
   "codemirror_mode": {
    "name": "ipython",
    "version": 3
   },
   "file_extension": ".py",
   "mimetype": "text/x-python",
   "name": "python",
   "nbconvert_exporter": "python",
   "pygments_lexer": "ipython3",
   "version": "3.10.9"
  }
 },
 "nbformat": 4,
 "nbformat_minor": 5
}
