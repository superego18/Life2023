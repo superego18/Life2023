{
 "cells": [
  {
   "cell_type": "markdown",
   "id": "2b4dedf5",
   "metadata": {},
   "source": [
    "# Shapiro-Wilk 검정"
   ]
  },
  {
   "cell_type": "markdown",
   "id": "daf6c207",
   "metadata": {},
   "source": [
    "## 필요한 모듈 불러오기 "
   ]
  },
  {
   "cell_type": "code",
   "execution_count": 1,
   "id": "548573bb",
   "metadata": {},
   "outputs": [],
   "source": [
    "from scipy.stats import shapiro\n",
    "import numpy as np\n",
    "import matplotlib.pyplot as plt\n",
    "import statsmodels.api as sm\n",
    "import pandas as pd\n",
    "from scipy.stats import pearsonr\n",
    "from datetime import datetime, timedelta"
   ]
  },
  {
   "cell_type": "markdown",
   "id": "28ab841f",
   "metadata": {},
   "source": [
    "## 데이터셋"
   ]
  },
  {
   "cell_type": "markdown",
   "id": "0bff11cb",
   "metadata": {},
   "source": [
    "### 테스트용 데이터셋"
   ]
  },
  {
   "cell_type": "code",
   "execution_count": 2,
   "id": "59524081",
   "metadata": {},
   "outputs": [],
   "source": [
    "# 정규분포를 띄는 데이터셋 생성\n",
    "\n",
    "def generate_normal_list(mean, std, size):\n",
    "    data_list = np.random.normal(mean, std, size)\n",
    "    plt.hist(data_list, bins=30)\n",
    "    plt.show()\n",
    "    return data_list"
   ]
  },
  {
   "cell_type": "code",
   "execution_count": 3,
   "id": "ecd26fa0",
   "metadata": {},
   "outputs": [
    {
     "data": {
      "image/png": "[encoded data removed]",
      "text/plain": [
       "<Figure size 640x480 with 1 Axes>"
      ]
     },
     "metadata": {},
     "output_type": "display_data"
    }
   ],
   "source": [
    "data2 = generate_normal_list(0, 1, 10000)"
   ]
  },
  {
   "cell_type": "markdown",
   "id": "e260afdb",
   "metadata": {},
   "source": [
    "### 실제 데이터셋"
   ]
  },
  {
   "cell_type": "code",
   "execution_count": 4,
   "id": "9745ba60",
   "metadata": {},
   "outputs": [
    {
     "name": "stdout",
     "output_type": "stream",
     "text": [
      "/Users/admin/Desktop/Life/DataSet_230605/datasets-KOSPI200\n"
     ]
    }
   ],
   "source": [
    "%cd /Users/admin/Desktop/Life/DataSet_230605/datasets-KOSPI200"
   ]
  },
  {
   "cell_type": "code",
   "execution_count": 8,
   "id": "dc751b05",
   "metadata": {},
   "outputs": [],
   "source": [
    "df = pd.read_csv('dataset-KOSPI200-323410 KS.csv') # 323410 카카오뱅크\n",
    "df2 = pd.read_csv('dataset-KOSPI200-377300 KS.csv') # 377300 카카오페이"
   ]
  },
  {
   "cell_type": "code",
   "execution_count": null,
   "id": "cc216a83",
   "metadata": {
    "scrolled": true
   },
   "outputs": [],
   "source": [
    "df2.tail()"
   ]
  },
  {
   "cell_type": "code",
   "execution_count": 9,
   "id": "f912cb7d",
   "metadata": {},
   "outputs": [],
   "source": [
    "# date를 datetime 객체로 만들어 index로 사용하기\n",
    "\n",
    "def to_datetime_index(df):\n",
    "    df['date'] = pd.to_datetime(df['date'])\n",
    "    df_dt = df.set_index('date', inplace=False)\n",
    "    return df_dt"
   ]
  },
  {
   "cell_type": "code",
   "execution_count": 10,
   "id": "227f63c8",
   "metadata": {
    "scrolled": true
   },
   "outputs": [],
   "source": [
    "df_dt = to_datetime_index(df)\n",
    "df2_dt = to_datetime_index(df2)"
   ]
  },
  {
   "cell_type": "code",
   "execution_count": 11,
   "id": "fcbf7d6f",
   "metadata": {},
   "outputs": [],
   "source": [
    "# MOV_AVG_5D에 대한 CHG_PCT_1D 열 만들기\n",
    "\n",
    "def make_ma5_cp1(df):\n",
    "    df_ma5_cp1 = df.copy()\n",
    "    df_ma5_cp1['MA5_CP1'] = df_ma5_cp1['MOV_AVG_5D'].pct_change()\n",
    "    return df_ma5_cp1"
   ]
  },
  {
   "cell_type": "code",
   "execution_count": 12,
   "id": "b0b3f0d3",
   "metadata": {},
   "outputs": [],
   "source": [
    "df_dt_ma5_cp1 = make_ma5_cp1(df_dt)"
   ]
  },
  {
   "cell_type": "code",
   "execution_count": 13,
   "id": "b4f683e2",
   "metadata": {},
   "outputs": [],
   "source": [
    "df2_dt_ma5_cp1 = make_ma5_cp1(df2_dt)"
   ]
  },
  {
   "cell_type": "code",
   "execution_count": 14,
   "id": "68b83963",
   "metadata": {},
   "outputs": [
    {
     "data": {
      "text/html": [
       "<div>\n",
       "<style scoped>\n",
       "    .dataframe tbody tr th:only-of-type {\n",
       "        vertical-align: middle;\n",
       "    }\n",
       "\n",
       "    .dataframe tbody tr th {\n",
       "        vertical-align: top;\n",
       "    }\n",
       "\n",
       "    .dataframe thead th {\n",
       "        text-align: right;\n",
       "    }\n",
       "</style>\n",
       "<table border=\"1\" class=\"dataframe\">\n",
       "  <thead>\n",
       "    <tr style=\"text-align: right;\">\n",
       "      <th></th>\n",
       "      <th>PX_OPEN</th>\n",
       "      <th>PX_LOW</th>\n",
       "      <th>PX_HIGH</th>\n",
       "      <th>PX_LAST</th>\n",
       "      <th>VOLUME</th>\n",
       "      <th>MOV_AVG_5D</th>\n",
       "      <th>CHG_PCT_1D</th>\n",
       "      <th>MA5_CP1</th>\n",
       "    </tr>\n",
       "    <tr>\n",
       "      <th>date</th>\n",
       "      <th></th>\n",
       "      <th></th>\n",
       "      <th></th>\n",
       "      <th></th>\n",
       "      <th></th>\n",
       "      <th></th>\n",
       "      <th></th>\n",
       "      <th></th>\n",
       "    </tr>\n",
       "  </thead>\n",
       "  <tbody>\n",
       "    <tr>\n",
       "      <th>2021-11-02</th>\n",
       "      <td>90000.0</td>\n",
       "      <td>NaN</td>\n",
       "      <td>NaN</td>\n",
       "      <td>NaN</td>\n",
       "      <td>NaN</td>\n",
       "      <td>NaN</td>\n",
       "      <td>NaN</td>\n",
       "      <td>NaN</td>\n",
       "    </tr>\n",
       "    <tr>\n",
       "      <th>2021-11-03</th>\n",
       "      <td>193000.0</td>\n",
       "      <td>180000.0</td>\n",
       "      <td>173000.0</td>\n",
       "      <td>230000.0</td>\n",
       "      <td>11799881.0</td>\n",
       "      <td>NaN</td>\n",
       "      <td>114.4444</td>\n",
       "      <td>NaN</td>\n",
       "    </tr>\n",
       "    <tr>\n",
       "      <th>2021-11-04</th>\n",
       "      <td>169000.0</td>\n",
       "      <td>190000.0</td>\n",
       "      <td>166000.0</td>\n",
       "      <td>191000.0</td>\n",
       "      <td>3487030.0</td>\n",
       "      <td>NaN</td>\n",
       "      <td>-12.4352</td>\n",
       "      <td>NaN</td>\n",
       "    </tr>\n",
       "    <tr>\n",
       "      <th>2021-11-05</th>\n",
       "      <td>170000.0</td>\n",
       "      <td>167500.0</td>\n",
       "      <td>167500.0</td>\n",
       "      <td>179000.0</td>\n",
       "      <td>1597937.0</td>\n",
       "      <td>NaN</td>\n",
       "      <td>0.5917</td>\n",
       "      <td>NaN</td>\n",
       "    </tr>\n",
       "    <tr>\n",
       "      <th>2021-11-08</th>\n",
       "      <td>153500.0</td>\n",
       "      <td>168500.0</td>\n",
       "      <td>152000.0</td>\n",
       "      <td>169500.0</td>\n",
       "      <td>1394625.0</td>\n",
       "      <td>155100.0</td>\n",
       "      <td>-9.7059</td>\n",
       "      <td>NaN</td>\n",
       "    </tr>\n",
       "    <tr>\n",
       "      <th>2021-11-09</th>\n",
       "      <td>147000.0</td>\n",
       "      <td>153500.0</td>\n",
       "      <td>146000.0</td>\n",
       "      <td>157500.0</td>\n",
       "      <td>892617.0</td>\n",
       "      <td>166500.0</td>\n",
       "      <td>-4.2345</td>\n",
       "      <td>0.073501</td>\n",
       "    </tr>\n",
       "    <tr>\n",
       "      <th>2021-11-10</th>\n",
       "      <td>150500.0</td>\n",
       "      <td>148000.0</td>\n",
       "      <td>147000.0</td>\n",
       "      <td>153500.0</td>\n",
       "      <td>615031.0</td>\n",
       "      <td>158000.0</td>\n",
       "      <td>2.3810</td>\n",
       "      <td>-0.051051</td>\n",
       "    </tr>\n",
       "    <tr>\n",
       "      <th>2021-11-11</th>\n",
       "      <td>145500.0</td>\n",
       "      <td>148000.0</td>\n",
       "      <td>140000.0</td>\n",
       "      <td>150000.0</td>\n",
       "      <td>768779.0</td>\n",
       "      <td>153300.0</td>\n",
       "      <td>-3.3223</td>\n",
       "      <td>-0.029747</td>\n",
       "    </tr>\n",
       "    <tr>\n",
       "      <th>2021-11-12</th>\n",
       "      <td>157500.0</td>\n",
       "      <td>146000.0</td>\n",
       "      <td>146000.0</td>\n",
       "      <td>158000.0</td>\n",
       "      <td>705982.0</td>\n",
       "      <td>150800.0</td>\n",
       "      <td>8.2474</td>\n",
       "      <td>-0.016308</td>\n",
       "    </tr>\n",
       "    <tr>\n",
       "      <th>2021-11-15</th>\n",
       "      <td>163000.0</td>\n",
       "      <td>157500.0</td>\n",
       "      <td>155000.0</td>\n",
       "      <td>166000.0</td>\n",
       "      <td>472684.0</td>\n",
       "      <td>152700.0</td>\n",
       "      <td>3.4921</td>\n",
       "      <td>0.012599</td>\n",
       "    </tr>\n",
       "  </tbody>\n",
       "</table>\n",
       "</div>"
      ],
      "text/plain": [
       "             PX_OPEN    PX_LOW   PX_HIGH   PX_LAST      VOLUME  MOV_AVG_5D  \\\n",
       "date                                                                         \n",
       "2021-11-02   90000.0       NaN       NaN       NaN         NaN         NaN   \n",
       "2021-11-03  193000.0  180000.0  173000.0  230000.0  11799881.0         NaN   \n",
       "2021-11-04  169000.0  190000.0  166000.0  191000.0   3487030.0         NaN   \n",
       "2021-11-05  170000.0  167500.0  167500.0  179000.0   1597937.0         NaN   \n",
       "2021-11-08  153500.0  168500.0  152000.0  169500.0   1394625.0    155100.0   \n",
       "2021-11-09  147000.0  153500.0  146000.0  157500.0    892617.0    166500.0   \n",
       "2021-11-10  150500.0  148000.0  147000.0  153500.0    615031.0    158000.0   \n",
       "2021-11-11  145500.0  148000.0  140000.0  150000.0    768779.0    153300.0   \n",
       "2021-11-12  157500.0  146000.0  146000.0  158000.0    705982.0    150800.0   \n",
       "2021-11-15  163000.0  157500.0  155000.0  166000.0    472684.0    152700.0   \n",
       "\n",
       "            CHG_PCT_1D   MA5_CP1  \n",
       "date                              \n",
       "2021-11-02         NaN       NaN  \n",
       "2021-11-03    114.4444       NaN  \n",
       "2021-11-04    -12.4352       NaN  \n",
       "2021-11-05      0.5917       NaN  \n",
       "2021-11-08     -9.7059       NaN  \n",
       "2021-11-09     -4.2345  0.073501  \n",
       "2021-11-10      2.3810 -0.051051  \n",
       "2021-11-11     -3.3223 -0.029747  \n",
       "2021-11-12      8.2474 -0.016308  \n",
       "2021-11-15      3.4921  0.012599  "
      ]
     },
     "execution_count": 14,
     "metadata": {},
     "output_type": "execute_result"
    }
   ],
   "source": [
    "df2_dt_ma5_cp1.head(10)"
   ]
  },
  {
   "cell_type": "markdown",
   "id": "227b1ede",
   "metadata": {},
   "source": [
    "## 정규성 검정 수행 "
   ]
  },
  {
   "cell_type": "code",
   "execution_count": 15,
   "id": "b3e0b742",
   "metadata": {},
   "outputs": [],
   "source": [
    "# 정규성 검정 수행\n",
    "\n",
    "class normality_test:\n",
    "    def __init__(self, data: list):\n",
    "        self.data = data\n",
    "        self.shapiro_test()\n",
    "        self.qqplot_test()\n",
    "        self.hist_test()\n",
    "        \n",
    "    def shapiro_test(self):\n",
    "        self.statistic, self.p_value = shapiro(self.data) # Shapiro-Wilk 정규성 검정 수행 \n",
    "        print(\"Shapiro-Wilk 검정 통계량:\", self.statistic)\n",
    "        print(\"p-value:\", self.p_value) # p-value가 일반적으로 0.05보다 크면 데이터가 정규분포를 따른다는 귀무가설을 기각하지 않습니다.\n",
    "        \n",
    "    def qqplot_test(self): \n",
    "        # QQ plot은 데이터의 분위수와 이론적인 정규분포의 분위수를 비교하여 데이터가 정규분포에 얼마나 잘 부합하는지를 보여줍니다.\n",
    "        sm.qqplot(self.data, line='s') # QQ plot 그리기\n",
    "        plt.title('QQ Plot')\n",
    "        plt.show() # 데이터가 정규분포를 따른다면, 점들이 대각선에 가깝게 분포될 것입니다.\n",
    "\n",
    "    def hist_test(self):\n",
    "        plt.hist(self.data, bins=100)\n",
    "        plt.title('Histogram')\n",
    "        plt.show()"
   ]
  },
  {
   "cell_type": "code",
   "execution_count": 16,
   "id": "300d90df",
   "metadata": {},
   "outputs": [],
   "source": [
    "# 주식 가격, 수익률, 로그 수익률 정규성 비교\n",
    "\n",
    "# shapiro test 결과 -> 이상함 (data의 개수가 500개 밖에 안 돼서?)\n",
    "# qqplot, histogram 봤을 때는 로그 수익률일 가장 정규성을 따름\n",
    "\n",
    "def test_3list(df):\n",
    "    sr_px_last = df['PX_LAST'].iloc[1:]\n",
    "    sr_chg_pct = df['CHG_PCT_1D'].iloc[1:]\n",
    "    log_chg_pct = pd.Series([np.log(1+x/100) for x in sr_chg_pct.tolist()])\n",
    "    \n",
    "    return normality_test(sr_px_last), normality_test(sr_chg_pct), normality_test(log_chg_pct)"
   ]
  },
  {
   "cell_type": "code",
   "execution_count": 17,
   "id": "f27e41ab",
   "metadata": {
    "scrolled": false
   },
   "outputs": [
    {
     "name": "stdout",
     "output_type": "stream",
     "text": [
      "Shapiro-Wilk 검정 통계량: 0.8385613560676575\n",
      "p-value: 1.394529189795459e-19\n"
     ]
    },
    {
     "data": {
      "image/png": "[encoded data removed]",
      "text/plain": [
       "<Figure size 640x480 with 1 Axes>"
      ]
     },
     "metadata": {},
     "output_type": "display_data"
    },
    {
     "data": {
      "image/png": "[encoded data removed]",
      "text/plain": [
       "<Figure size 640x480 with 1 Axes>"
      ]
     },
     "metadata": {},
     "output_type": "display_data"
    },
    {
     "name": "stdout",
     "output_type": "stream",
     "text": [
      "Shapiro-Wilk 검정 통계량: 0.4529303312301636\n",
      "p-value: 7.697397087309458e-33\n"
     ]
    },
    {
     "data": {
      "image/png": "[encoded data removed]",
      "text/plain": [
       "<Figure size 640x480 with 1 Axes>"
      ]
     },
     "metadata": {},
     "output_type": "display_data"
    },
    {
     "data": {
      "image/png": "[encoded data removed]",
      "text/plain": [
       "<Figure size 640x480 with 1 Axes>"
      ]
     },
     "metadata": {},
     "output_type": "display_data"
    },
    {
     "name": "stdout",
     "output_type": "stream",
     "text": [
      "Shapiro-Wilk 검정 통계량: 0.6325012445449829\n",
      "p-value: 4.041513432635574e-28\n"
     ]
    },
    {
     "data": {
      "image/png": "[encoded data removed]",
      "text/plain": [
       "<Figure size 640x480 with 1 Axes>"
      ]
     },
     "metadata": {},
     "output_type": "display_data"
    },
    {
     "data": {
      "image/png": "[encoded data removed]",
      "text/plain": [
       "<Figure size 640x480 with 1 Axes>"
      ]
     },
     "metadata": {},
     "output_type": "display_data"
    },
    {
     "data": {
      "text/plain": [
       "(<__main__.normality_test at 0x15d719ea0>,\n",
       " <__main__.normality_test at 0x15e55f8b0>,\n",
       " <__main__.normality_test at 0x15e704a90>)"
      ]
     },
     "execution_count": 17,
     "metadata": {},
     "output_type": "execute_result"
    }
   ],
   "source": [
    "test_3list(df2)"
   ]
  },
  {
   "cell_type": "markdown",
   "id": "e8973ce0",
   "metadata": {},
   "source": [
    "## 상관분석 "
   ]
  },
  {
   "cell_type": "markdown",
   "id": "68a24eeb",
   "metadata": {},
   "source": [
    "주가 비교"
   ]
  },
  {
   "cell_type": "code",
   "execution_count": null,
   "id": "8f42830d",
   "metadata": {},
   "outputs": [],
   "source": [
    "plt.plot(df_dt['PX_LAST'], label='kakaobank')\n",
    "plt.plot(df2_dt['PX_LAST'], label='kakaopay')\n",
    "plt.legend()\n",
    "plt.show"
   ]
  },
  {
   "cell_type": "markdown",
   "id": "7bfb6f0e",
   "metadata": {},
   "source": [
    "log 수익률 비교"
   ]
  },
  {
   "cell_type": "code",
   "execution_count": null,
   "id": "0250bddb",
   "metadata": {},
   "outputs": [],
   "source": [
    "df_log = pd.Series([np.log(1+x/100) for x in df_dt['CHG_PCT_1D'].loc['2021-11-09':].tolist()])\n",
    "df2_log = pd.Series([np.log(1+x/100) for x in df2_dt['CHG_PCT_1D'].loc['2021-11-09':].tolist()])"
   ]
  },
  {
   "cell_type": "code",
   "execution_count": null,
   "id": "60531aec",
   "metadata": {
    "scrolled": true
   },
   "outputs": [],
   "source": [
    "plt.plot(df_log, label='kakaobank')\n",
    "plt.plot(df2_log, label='kakaopay')\n",
    "plt.legend()\n",
    "plt.show"
   ]
  },
  {
   "cell_type": "code",
   "execution_count": null,
   "id": "494a19ba",
   "metadata": {},
   "outputs": [],
   "source": [
    "# 누적 log 수익률\n",
    "\n",
    "df_cum_log = np.cumprod(1 + df_log) - 1\n",
    "df2_cum_log = np.cumprod(1 + df2_log) - 1\n",
    "\n",
    "plt.plot(df_cum_log)\n",
    "plt.plot(df2_cum_log)"
   ]
  },
  {
   "cell_type": "code",
   "execution_count": null,
   "id": "fef21608",
   "metadata": {},
   "outputs": [],
   "source": [
    "corr, p_value = pearsonr(df_log, df2_log)\n",
    "print(\"상관계수:\", corr)\n",
    "print(\"p-value:\", p_value)"
   ]
  },
  {
   "cell_type": "markdown",
   "id": "8283cd59",
   "metadata": {},
   "source": [
    "기간별 log_수익률 비교"
   ]
  },
  {
   "cell_type": "code",
   "execution_count": null,
   "id": "01c47916",
   "metadata": {},
   "outputs": [],
   "source": [
    "# 시작 날짜와 종료 날짜 지정\n",
    "start_date = datetime(2021, 11, 9)\n",
    "end_date = datetime(2023, 6, 2)\n",
    "\n",
    "# 날짜 범위 생성\n",
    "date_range = [start_date + timedelta(days=x) for x in range((end_date - start_date).days + 1)]\n",
    "date_range = [x.strftime(\"%Y-%m-%d\") for x in date_range]\n",
    "\n",
    "df_memo = pd.DataFrame()\n",
    "\n",
    "def long_term(df1, df2):\n",
    "    corr_list = []\n",
    "    p_value_list = []\n",
    "    df1_ma5_cp1 = df1[['CHG_PCT_1D']]\n",
    "    df2_ma5_cp1 = df2[['CHG_PCT_1D']]\n",
    "    for date in date_range:\n",
    "        if date == date_range[-1]:\n",
    "            break\n",
    "        sr1_log_ma5_cp1 = pd.Series([np.log(1+x/100) for x in df1_ma5_cp1.loc[date:]['CHG_PCT_1D']])\n",
    "        sr2_log_ma5_cp1 = pd.Series([np.log(1+x/100) for x in df2_ma5_cp1.loc[date:]['CHG_PCT_1D']])\n",
    "        corr, p_value = pearsonr(sr1_log_ma5_cp1, sr2_log_ma5_cp1)\n",
    "        corr_list.append(corr)\n",
    "        p_value_list.append(p_value)\n",
    "    df_memo['corr'] = corr_list\n",
    "    df_memo['p-value'] = p_value_list\n",
    "    df_memo.index = date_range[:-1]\n",
    "    return(df_memo)"
   ]
  },
  {
   "cell_type": "code",
   "execution_count": null,
   "id": "1e35cb45",
   "metadata": {
    "scrolled": true
   },
   "outputs": [],
   "source": [
    "df_lt = long_term(df_dt_ma5_cp1, df2_dt_ma5_cp1)\n",
    "df_lt"
   ]
  },
  {
   "cell_type": "code",
   "execution_count": null,
   "id": "38f5452b",
   "metadata": {},
   "outputs": [],
   "source": [
    "plt.plot(df_lt['corr'])\n",
    "plt.plot(df_lt['p-value'])\n",
    "plt.axhline(y=0.05, color='red', linestyle='--')\n",
    "plt.show()"
   ]
  },
  {
   "cell_type": "markdown",
   "id": "fc24e9f0",
   "metadata": {},
   "source": [
    "ma5_log_수익률 비교"
   ]
  },
  {
   "cell_type": "code",
   "execution_count": null,
   "id": "81394448",
   "metadata": {},
   "outputs": [],
   "source": [
    "normality_test(df_dt_ma5_cp1[['MA5_CP1']].loc['2021-08-12':])"
   ]
  },
  {
   "cell_type": "code",
   "execution_count": null,
   "id": "0aab5d0b",
   "metadata": {},
   "outputs": [],
   "source": [
    "df_ma5_log = pd.Series([np.log(1+x/100) for x in df_dt_ma5_cp1.loc['2021-11-09':]['MA5_CP1']])"
   ]
  },
  {
   "cell_type": "code",
   "execution_count": null,
   "id": "b6669549",
   "metadata": {},
   "outputs": [],
   "source": [
    "normality_test(df_ma5_log)"
   ]
  },
  {
   "cell_type": "code",
   "execution_count": null,
   "id": "79350827",
   "metadata": {},
   "outputs": [],
   "source": [
    "df2_ma5_log = pd.Series([np.log(1+x/100) for x in df2_dt_ma5_cp1.loc['2021-11-09':]['MA5_CP1']])"
   ]
  },
  {
   "cell_type": "code",
   "execution_count": null,
   "id": "c518e9d1",
   "metadata": {},
   "outputs": [],
   "source": [
    "normality_test(df2_ma5_log)"
   ]
  },
  {
   "cell_type": "code",
   "execution_count": null,
   "id": "b6f33958",
   "metadata": {},
   "outputs": [],
   "source": [
    "plt.plot(df_ma5_log, label='kakaobank')\n",
    "plt.plot(df2_ma5_log, label='kakaopay')\n",
    "plt.legend()\n",
    "plt.show"
   ]
  },
  {
   "cell_type": "code",
   "execution_count": null,
   "id": "54a6e821",
   "metadata": {},
   "outputs": [],
   "source": [
    "corr, p_value = pearsonr(df_ma5_log, df2_ma5_log)\n",
    "print(\"상관계수:\", corr)\n",
    "print(\"p-value:\", p_value)"
   ]
  },
  {
   "cell_type": "code",
   "execution_count": null,
   "id": "b587111b",
   "metadata": {},
   "outputs": [],
   "source": [
    "# 누적 ma5 log 수익률\n",
    "\n",
    "df_cum_ma5_log = np.cumprod(1 + df_ma5_log) - 1\n",
    "df2_cum_ma5_log = np.cumprod(1 + df2_ma5_log) - 1\n",
    "\n",
    "plt.plot(df_cum_ma5_log)\n",
    "plt.plot(df2_cum_ma5_log)"
   ]
  },
  {
   "cell_type": "code",
   "execution_count": null,
   "id": "341ceea4",
   "metadata": {
    "scrolled": true
   },
   "outputs": [],
   "source": [
    "plt.plot(df_log)\n",
    "plt.plot(df_ma5_log*100)"
   ]
  },
  {
   "cell_type": "markdown",
   "id": "52f01e47",
   "metadata": {},
   "source": [
    "기간별 ma5_log_수익률 비교"
   ]
  },
  {
   "cell_type": "code",
   "execution_count": null,
   "id": "dc54fc32",
   "metadata": {
    "scrolled": true
   },
   "outputs": [],
   "source": [
    "# 시작 날짜와 종료 날짜 지정\n",
    "start_date = datetime(2021, 11, 9)\n",
    "end_date = datetime(2023, 6, 2)\n",
    "\n",
    "# 날짜 범위 생성\n",
    "date_range = [start_date + timedelta(days=x) for x in range((end_date - start_date).days + 1)]\n",
    "date_range = [x.strftime(\"%Y-%m-%d\") for x in date_range]\n",
    "\n",
    "df_memo = pd.DataFrame()\n",
    "\n",
    "def long_term(df1, df2):\n",
    "    corr_list = []\n",
    "    p_value_list = []\n",
    "    df1_ma5_cp1 = df1[['MA5_CP1']]\n",
    "    df2_ma5_cp1 = df2[['MA5_CP1']]\n",
    "    for date in date_range:\n",
    "        if date == date_range[-1]:\n",
    "            break\n",
    "        sr1_log_ma5_cp1 = pd.Series([np.log(1+x/100) for x in df1_ma5_cp1.loc[date:]['MA5_CP1']])\n",
    "        sr2_log_ma5_cp1 = pd.Series([np.log(1+x/100) for x in df2_ma5_cp1.loc[date:]['MA5_CP1']])\n",
    "        corr, p_value = pearsonr(sr1_log_ma5_cp1, sr2_log_ma5_cp1)\n",
    "        corr_list.append(corr)\n",
    "        p_value_list.append(p_value)\n",
    "    df_memo['corr'] = corr_list\n",
    "    df_memo['p-value'] = p_value_list\n",
    "    df_memo.index = date_range[:-1]\n",
    "    return(df_memo)"
   ]
  },
  {
   "cell_type": "code",
   "execution_count": null,
   "id": "f0ab2b28",
   "metadata": {
    "scrolled": false
   },
   "outputs": [],
   "source": [
    "df_lt = long_term(df_dt_ma5_cp1, df2_dt_ma5_cp1)\n",
    "df_lt"
   ]
  },
  {
   "cell_type": "code",
   "execution_count": null,
   "id": "d3578aee",
   "metadata": {},
   "outputs": [],
   "source": [
    "df1_ma5_cp1 = df_dt_ma5_cp1[['MA5_CP1']]\n",
    "df2_ma5_cp1 = df2_dt_ma5_cp1[['MA5_CP1']]"
   ]
  },
  {
   "cell_type": "code",
   "execution_count": null,
   "id": "38e4a4c1",
   "metadata": {
    "scrolled": true
   },
   "outputs": [],
   "source": [
    "sr1_log_ma5_cp1 = pd.Series([np.log(1+x/100) for x in df1_ma5_cp1['MA5_CP1']])\n",
    "sr2_log_ma5_cp1 = pd.Series([np.log(1+x/100) for x in df2_ma5_cp1['MA5_CP1']])\n"
   ]
  },
  {
   "cell_type": "code",
   "execution_count": null,
   "id": "636f2270",
   "metadata": {},
   "outputs": [],
   "source": [
    "pearsonr(sr1_log_ma5_cp1[-2:],sr2_log_ma5_cp1[-2:])"
   ]
  },
  {
   "cell_type": "code",
   "execution_count": null,
   "id": "369675a4",
   "metadata": {},
   "outputs": [],
   "source": [
    "sr1_log_ma5_cp1[-2:]"
   ]
  },
  {
   "cell_type": "code",
   "execution_count": null,
   "id": "41154679",
   "metadata": {
    "scrolled": true
   },
   "outputs": [],
   "source": [
    "sr2_log_ma5_cp1[-2:]"
   ]
  },
  {
   "cell_type": "code",
   "execution_count": null,
   "id": "1c05a5e0",
   "metadata": {},
   "outputs": [],
   "source": [
    "pearsonr([0.000063,0.000097],[0.000031,0.000059])"
   ]
  },
  {
   "cell_type": "code",
   "execution_count": null,
   "id": "883a10d7",
   "metadata": {},
   "outputs": [],
   "source": [
    "plt.plot(df_lt['corr'], label='kakaobank')\n",
    "plt.plot(df_lt['p-value'], label='kakaopay')\n",
    "plt.axhline(y=0.05, color='red', linestyle='--')\n",
    "plt.legend()\n",
    "plt.show()"
   ]
  },
  {
   "cell_type": "code",
   "execution_count": null,
   "id": "dc005671",
   "metadata": {},
   "outputs": [],
   "source": []
  }
 ],
 "metadata": {
  "kernelspec": {
   "display_name": "Python 3 (ipykernel)",
   "language": "python",
   "name": "python3"
  },
  "language_info": {
   "codemirror_mode": {
    "name": "ipython",
    "version": 3
   },
   "file_extension": ".py",
   "mimetype": "text/x-python",
   "name": "python",
   "nbconvert_exporter": "python",
   "pygments_lexer": "ipython3",
   "version": "3.10.9"
  }
 },
 "nbformat": 4,
 "nbformat_minor": 5
}
