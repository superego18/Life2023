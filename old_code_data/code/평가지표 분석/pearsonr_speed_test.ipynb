{
 "cells": [
  {
   "cell_type": "code",
   "execution_count": 79,
   "id": "9a4995d4",
   "metadata": {},
   "outputs": [],
   "source": [
    "import time\n",
    "import random\n",
    "from scipy.stats import pearsonr\n",
    "import numpy as np\n",
    "import pandas as pd\n",
    "import statsmodels.api as sm\n"
   ]
  },
  {
   "cell_type": "code",
   "execution_count": 94,
   "id": "754bbc65",
   "metadata": {},
   "outputs": [
    {
     "name": "stdout",
     "output_type": "stream",
     "text": [
      "\n",
      "5.282711982727051e-05\n"
     ]
    }
   ],
   "source": [
    "time_list = []\n",
    "for i in range(1000):\n",
    "    \n",
    "    k = [random.uniform(-1, 1) for _ in range(300)]\n",
    "    r = [random.uniform(-1, 1) for _ in range(300)]\n",
    "    \n",
    "    start = time.time()\n",
    "    \n",
    "    ###\n",
    "    corr, p_val = pearsonr(k, r)\n",
    "    ###\n",
    "    \n",
    "    end = time.time()\n",
    "#     print(corr, p_val)\n",
    "    time_ = end - start\n",
    "    time_list.append(time_)\n",
    "    \n",
    "print()\n",
    "print(np.average(time_list))\n",
    "\n",
    "# 3~4 e-05"
   ]
  },
  {
   "cell_type": "code",
   "execution_count": 44,
   "id": "b3def007",
   "metadata": {},
   "outputs": [
    {
     "data": {
      "text/plain": [
       "-0.04133901120424628"
      ]
     },
     "execution_count": 44,
     "metadata": {},
     "output_type": "execute_result"
    }
   ],
   "source": [
    "np.corrcoef(k,r)[0,1]"
   ]
  },
  {
   "cell_type": "code",
   "execution_count": 100,
   "id": "5046fbde",
   "metadata": {},
   "outputs": [
    {
     "name": "stdout",
     "output_type": "stream",
     "text": [
      "\n",
      "8.594274520874024e-05\n"
     ]
    }
   ],
   "source": [
    "time_list = []\n",
    "for i in range(100):\n",
    "    \n",
    "    k = [random.uniform(-1, 1) for _ in range(300)]\n",
    "    r = [random.uniform(-1, 1) for _ in range(300)]\n",
    "    \n",
    "    start = time.time()\n",
    "    \n",
    "    ###\n",
    "    corr = np.corrcoef(k,r)\n",
    "    ###\n",
    "    \n",
    "    end = time.time()\n",
    "    \n",
    "    time_ = end - start\n",
    "    time_list.append(time_)\n",
    "    \n",
    "print()\n",
    "print(np.average(time_list))\n",
    "\n",
    "# 4~8 e-05"
   ]
  },
  {
   "cell_type": "code",
   "execution_count": 78,
   "id": "9c3c4d41",
   "metadata": {},
   "outputs": [
    {
     "name": "stdout",
     "output_type": "stream",
     "text": [
      "\n",
      "0.00010985851287841796\n"
     ]
    }
   ],
   "source": [
    "time_list = []\n",
    "for i in range(100):\n",
    "    \n",
    "    k = [random.uniform(-1, 1) for _ in range(90)]\n",
    "    r = [random.uniform(-1, 1) for _ in range(90)]\n",
    "    \n",
    "    df = pd.DataFrame({'k':k,'r':r})\n",
    "    \n",
    "    start = time.time()\n",
    "    \n",
    "    ###\n",
    "    corr = df.corr().loc['k','r']\n",
    "    ###\n",
    "    \n",
    "    end = time.time()\n",
    "    \n",
    "    time_ = end - start\n",
    "    time_list.append(time_)\n",
    "    \n",
    "print()\n",
    "print(np.average(time_list))\n",
    "\n",
    "# 6~10 e-05"
   ]
  },
  {
   "cell_type": "code",
   "execution_count": 91,
   "id": "2845cc38",
   "metadata": {},
   "outputs": [
    {
     "name": "stdout",
     "output_type": "stream",
     "text": [
      "191.84555329799653\n"
     ]
    }
   ],
   "source": [
    "time_list = []\n",
    "for i in range(100):\n",
    "    \n",
    "    k = [random.uniform(-1, 1) for _ in range(90)]\n",
    "    r = [random.uniform(-1, 1) for _ in range(90)]\n",
    "\n",
    "    ###\n",
    "    model = sm.OLS(k, sm.add_constant(r))\n",
    "    result=model.fit()\n",
    "    corr = result.rsquared**0.5\n",
    "    ###\n",
    "    \n",
    "    end = time.time()\n",
    "    \n",
    "    time_ = end - start\n",
    "    time_list.append(time_)\n",
    "\n",
    "print(np.average(time_list))\n",
    "\n",
    "# 150 ~ 190 ?"
   ]
  },
  {
   "cell_type": "code",
   "execution_count": null,
   "id": "95af58f1",
   "metadata": {},
   "outputs": [],
   "source": []
  },
  {
   "cell_type": "code",
   "execution_count": null,
   "id": "5c84252d",
   "metadata": {},
   "outputs": [],
   "source": []
  }
 ],
 "metadata": {
  "kernelspec": {
   "display_name": "Python 3 (ipykernel)",
   "language": "python",
   "name": "python3"
  },
  "language_info": {
   "codemirror_mode": {
    "name": "ipython",
    "version": 3
   },
   "file_extension": ".py",
   "mimetype": "text/x-python",
   "name": "python",
   "nbconvert_exporter": "python",
   "pygments_lexer": "ipython3",
   "version": "3.10.9"
  }
 },
 "nbformat": 4,
 "nbformat_minor": 5
}
